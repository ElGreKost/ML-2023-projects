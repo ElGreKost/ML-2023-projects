{
 "nbformat": 4,
 "nbformat_minor": 0,
 "metadata": {
  "colab": {
   "provenance": []
  },
  "kernelspec": {
   "name": "python3",
   "language": "python",
   "display_name": "Python 3 (ipykernel)"
  },
  "language_info": {
   "name": "python"
  }
 },
 "cells": [
  {
   "cell_type": "code",
   "source": [
    "!pip install seaborn"
   ],
   "metadata": {
    "colab": {
     "base_uri": "https://localhost:8080/"
    },
    "id": "hWZyj9AkRAql",
    "outputId": "8de5ca4b-9eea-45a6-832c-e09d65a0bc83",
    "ExecuteTime": {
     "end_time": "2023-11-21T19:31:05.504013664Z",
     "start_time": "2023-11-21T19:31:03.386152323Z"
    }
   },
   "execution_count": 1,
   "outputs": [
    {
     "name": "stdout",
     "output_type": "stream",
     "text": [
      "Requirement already satisfied: seaborn in /home/kostiskak/anaconda3/envs/ai_env/lib/python3.11/site-packages (0.12.2)\r\n",
      "Requirement already satisfied: numpy!=1.24.0,>=1.17 in /home/kostiskak/anaconda3/envs/ai_env/lib/python3.11/site-packages (from seaborn) (1.23.5)\r\n",
      "Requirement already satisfied: pandas>=0.25 in /home/kostiskak/anaconda3/envs/ai_env/lib/python3.11/site-packages (from seaborn) (2.0.3)\r\n",
      "Requirement already satisfied: matplotlib!=3.6.1,>=3.1 in /home/kostiskak/anaconda3/envs/ai_env/lib/python3.11/site-packages (from seaborn) (3.7.2)\r\n",
      "Requirement already satisfied: contourpy>=1.0.1 in /home/kostiskak/anaconda3/envs/ai_env/lib/python3.11/site-packages (from matplotlib!=3.6.1,>=3.1->seaborn) (1.0.5)\r\n",
      "Requirement already satisfied: cycler>=0.10 in /home/kostiskak/anaconda3/envs/ai_env/lib/python3.11/site-packages (from matplotlib!=3.6.1,>=3.1->seaborn) (0.11.0)\r\n",
      "Requirement already satisfied: fonttools>=4.22.0 in /home/kostiskak/anaconda3/envs/ai_env/lib/python3.11/site-packages (from matplotlib!=3.6.1,>=3.1->seaborn) (4.25.0)\r\n",
      "Requirement already satisfied: kiwisolver>=1.0.1 in /home/kostiskak/anaconda3/envs/ai_env/lib/python3.11/site-packages (from matplotlib!=3.6.1,>=3.1->seaborn) (1.4.4)\r\n",
      "Requirement already satisfied: packaging>=20.0 in /home/kostiskak/anaconda3/envs/ai_env/lib/python3.11/site-packages (from matplotlib!=3.6.1,>=3.1->seaborn) (23.1)\r\n",
      "Requirement already satisfied: pillow>=6.2.0 in /home/kostiskak/anaconda3/envs/ai_env/lib/python3.11/site-packages (from matplotlib!=3.6.1,>=3.1->seaborn) (10.0.1)\r\n",
      "Requirement already satisfied: pyparsing<3.1,>=2.3.1 in /home/kostiskak/anaconda3/envs/ai_env/lib/python3.11/site-packages (from matplotlib!=3.6.1,>=3.1->seaborn) (3.0.9)\r\n",
      "Requirement already satisfied: python-dateutil>=2.7 in /home/kostiskak/anaconda3/envs/ai_env/lib/python3.11/site-packages (from matplotlib!=3.6.1,>=3.1->seaborn) (2.8.2)\r\n",
      "Requirement already satisfied: pytz>=2020.1 in /home/kostiskak/anaconda3/envs/ai_env/lib/python3.11/site-packages (from pandas>=0.25->seaborn) (2023.3.post1)\r\n",
      "Requirement already satisfied: tzdata>=2022.1 in /home/kostiskak/anaconda3/envs/ai_env/lib/python3.11/site-packages (from pandas>=0.25->seaborn) (2023.3)\r\n",
      "Requirement already satisfied: six>=1.5 in /home/kostiskak/anaconda3/envs/ai_env/lib/python3.11/site-packages (from python-dateutil>=2.7->matplotlib!=3.6.1,>=3.1->seaborn) (1.16.0)\r\n"
     ]
    }
   ]
  },
  {
   "cell_type": "markdown",
   "source": [
    "#### Trying Rainy Week/Month that fail in the end due to the sparce days in a week/month data in the dataset"
   ],
   "metadata": {
    "collapsed": false
   }
  },
  {
   "cell_type": "code",
   "execution_count": 2,
   "outputs": [],
   "source": [
    "# adding rainy weeks and month in the dataset\n",
    "import pandas as pd\n",
    "import matplotlib.pyplot as plt\n",
    "import seaborn as sns\n",
    "import numpy as np\n",
    "\n",
    "# Load the data\n",
    "original_df = pd.read_csv('content/data/train-val.csv')\n",
    "\n",
    "# Convert 'Date' to datetime\n",
    "original_df['Date'] = pd.to_datetime(original_df['Date'])\n",
    "\n",
    "# Calculate the week of the year and the month from 'Date'\n",
    "original_df['WeekOfYear'] = original_df['Date'].dt.isocalendar().week\n",
    "original_df['MonthOfYear'] = original_df['Date'].dt.month\n",
    "\n",
    "# Determine if more than half the days in each week/month had rain\n",
    "rainy_week = original_df.groupby('WeekOfYear')['RainToday'].transform(lambda x: (x.sum() / x.count()) > 0.3)\n",
    "rainy_month = original_df.groupby('MonthOfYear')['RainToday'].transform(lambda x: (x.sum() / x.count()) > 0.2)\n",
    "\n",
    "# Add the new attributes to the DataFrame\n",
    "original_df['RainyWeek'] = rainy_week.astype(int)\n",
    "original_df['RainyMonth'] = rainy_month.astype(int)\n",
    "\n",
    "# Save the modified DataFrame to a new CSV file if needed\n",
    "original_df.to_csv('content/data/extra_rainy_train-val.csv', index=False)\n"
   ],
   "metadata": {
    "collapsed": false,
    "ExecuteTime": {
     "end_time": "2023-11-21T19:31:06.151802092Z",
     "start_time": "2023-11-21T19:31:05.508298905Z"
    }
   }
  },
  {
   "cell_type": "markdown",
   "source": [
    "## For version 2 that imputes with regressors use the attributes that are highly correlated with the missing ones we need to impute"
   ],
   "metadata": {
    "collapsed": false
   }
  },
  {
   "cell_type": "code",
   "execution_count": 3,
   "outputs": [],
   "source": [
    "# # Writing an upgraded version of the Imputer class\n",
    "# \n",
    "# from sklearn.base import BaseEstimator, TransformerMixin\n",
    "# from sklearn.ensemble import RandomForestRegressor\n",
    "# from sklearn.model_selection import GridSearchCV\n",
    "# import pandas as pd\n",
    "# import numpy as np\n",
    "# import pickle\n",
    "# import os\n",
    "# \n",
    "# \n",
    "# class UpgradedImputer(BaseEstimator, TransformerMixin):\n",
    "#     def __init__(self, target, correlated_features=None, model=None, params_grid=None, save_path='models/'):\n",
    "#         self.target = target\n",
    "#         self.correlated_features = correlated_features\n",
    "#         self.model = model if model else RandomForestRegressor(random_state=42)\n",
    "#         self.params_grid = params_grid\n",
    "#         self.trained_model = None\n",
    "#         self.save_path = save_path\n",
    "# \n",
    "#     def fit(self, X, y=None):\n",
    "#         # Filtering data  \n",
    "#         if self.correlated_features:\n",
    "#             X = X[self.correlated_features]\n",
    "# \n",
    "#         # Separating the target and features\n",
    "#         y_train = X[self.target]\n",
    "#         X_train = X.drop(columns=[self.target])\n",
    "# \n",
    "#         # Handling only rows where the target is not null\n",
    "#         X_train = X_train[y_train.notnull()]\n",
    "#         y_train = y_train[y_train.notnull()]\n",
    "# \n",
    "#         # Grid Search for model optimization\n",
    "#         if self.params_grid:\n",
    "#             self.trained_model = GridSearchCV(self.model, self.params_grid, cv=5, n_jobs=-1, verbose=2)\n",
    "#         else:\n",
    "#             self.trained_model = self.model\n",
    "# \n",
    "#         self.trained_model.fit(X_train, y_train)\n",
    "#         return self\n",
    "# \n",
    "#     def transform(self, X, y=None):\n",
    "#         if self.target not in X:\n",
    "#             return X\n",
    "# \n",
    "#         # Apply the model to fill missing values\n",
    "#         missing_indices = X[self.target].isnull()\n",
    "#         if missing_indices.any():\n",
    "#             X_missing = X[missing_indices].drop(columns=[self.target])\n",
    "#             X.loc[missing_indices, self.target] = self.trained_model.predict(X_missing)\n",
    "# \n",
    "#         return X\n",
    "# \n",
    "#     def fit_transform(self, X, y=None):\n",
    "#         return self.fit(X, y).transform(X, y)\n",
    "# \n",
    "#     def save_model(self, filename=None):\n",
    "#         if not filename:\n",
    "#             filename = f'{self.target}_imputer.pkl'\n",
    "#         with open(os.path.join(self.save_path, filename), 'wb') as file:\n",
    "#             pickle.dump(self.trained_model, file)\n",
    "# \n",
    "#     def load_model(self, filename):\n",
    "#         with open(os.path.join(self.save_path, filename), 'rb') as file:\n",
    "#             self.trained_model = pickle.load(file)\n",
    "\n",
    "\n",
    "# Creating and training imputers for different features and saving the models\n",
    "# cloud3pm_imputer = UpgradedImputer(target='Cloud3pm', correlated_features=list(high_corr_dict['Cloud3pm'].keys()))\n",
    "# cloud3pm_imputer.fit_transform(data)\n",
    "# cloud3pm_imputer.save_model('cloud3pm_imputer.pkl')\n",
    "# \n",
    "# sunshine_imputer = UpgradedImputer(target='Sunshine', correlated_features=list(high_corr_dict['Sunshine'].keys()))\n",
    "# sunshine_imputer.fit_transform(data)\n",
    "# sunshine_imputer.save_model('sunshine_imputer.pkl')\n",
    "# \n",
    "# cloud9am_imputer = UpgradedImputer(target='Cloud9am', correlated_features=list(high_corr_dict['Cloud9am'].keys()))\n",
    "# cloud9am_imputer.fit_transform(data)\n",
    "# cloud9am_imputer.save_model('cloud9am_imputer.pkl')\n",
    "# \n",
    "# evaporation_imputer = UpgradedImputer(target='Evaporation',\n",
    "#                                       correlated_features=list(high_corr_dict['Evaporation'].keys()))\n",
    "# evaporation_imputer.fit_transform(data)\n",
    "# evaporation_imputer.save_model('evaporation_imputer.pkl')\n",
    "# \n",
    "# # Repeat for test data imputers\n",
    "# test_cloud3pm_imputer = UpgradedImputer(target='Cloud3pm',\n",
    "#                                         correlated_features=list(test_high_corr_dict['Cloud3pm'].keys()))\n",
    "# test_cloud3pm_imputer.fit_transform(test_data)\n",
    "# test_cloud3pm_imputer.save_model('test_cloud3pm_imputer.pkl')\n",
    "# \n",
    "# test_sunshine_imputer = UpgradedImputer(target='Sunshine',\n",
    "#                                         correlated_features=list(test_high_corr_dict['Sunshine'].keys()))\n",
    "# test_sunshine_imputer.fit_transform(test_data)\n",
    "# test_sunshine_imputer.save_model('test_sunshine_imputer.pkl')\n",
    "# \n",
    "# test_cloud9am_imputer = UpgradedImputer(target='Cloud9am',\n",
    "#                                         correlated_features=list(test_high_corr_dict['Cloud9am'].keys()))\n",
    "# test_cloud9am_imputer.fit_transform(test_data)\n",
    "# test_cloud9am_imputer.save_model('test_cloud9am_imputer.pkl')\n",
    "# \n",
    "# test_evaporation_imputer = UpgradedImputer(target='Evaporation',\n",
    "#                                            correlated_features=list(test_high_corr_dict['Evaporation'].keys()))\n",
    "# test_evaporation_imputer.fit_transform(test_data)\n",
    "# test_evaporation_imputer.save_model('test_evaporation_imputer.pkl')"
   ],
   "metadata": {
    "collapsed": false,
    "ExecuteTime": {
     "end_time": "2023-11-21T19:31:06.158590747Z",
     "start_time": "2023-11-21T19:31:06.152749821Z"
    }
   }
  },
  {
   "cell_type": "code",
   "execution_count": 4,
   "outputs": [],
   "source": [
    "from sklearn.model_selection import train_test_split\n",
    "from sklearn.ensemble import RandomForestRegressor\n",
    "from sklearn.metrics import mean_squared_error, r2_score\n",
    "from sklearn.model_selection import GridSearchCV\n",
    "\n",
    "import os\n",
    "\n",
    "original_train = pd.read_csv('content/data/train-val.csv')\n",
    "\n",
    "class Imputer:\n",
    "    def __init__(self, train_attrs: list[str], target: str, read_csv_path='', instant_train=False):\n",
    "        global original_train\n",
    "        self.target = target\n",
    "        self.train_attrs = train_attrs\n",
    "        self.read_csv_path = read_csv_path\n",
    "        self._X_train = None\n",
    "        self._y_train = None\n",
    "        self.best_params = None\n",
    "        self.best_score = None\n",
    "        self.imputer = None\n",
    "        self.missing_over_40 = None\n",
    "        self.imputer_train_df = pd.read_csv(self.read_csv_path) if read_csv_path != '' else self.filter_df(set(train_attrs))\n",
    "        if instant_train: self.fit()\n",
    "    \n",
    "    def filter_df(self, train_attrs: set):\n",
    "        self.missing_over_40 = {'Sunshine', 'Evaporation', 'Cloud3pm', 'Cloud9am'}\n",
    "        to_fill_with_median = train_attrs - self.missing_over_40 - set(self.target)\n",
    "        drop_attrs = (train_attrs.union({self.target})).intersection(self.missing_over_40)\n",
    "        all_columns = list(train_attrs) + [self.target]\n",
    "        print(drop_attrs, all_columns)\n",
    "    \n",
    "        filtered_df = original_train[all_columns].dropna(subset=list(drop_attrs), how='any').copy()\n",
    "    \n",
    "        for _col in to_fill_with_median:\n",
    "            _median_value = filtered_df[_col].median()\n",
    "            filtered_df.loc[:, _col] = filtered_df[_col].fillna(_median_value)\n",
    "    \n",
    "        print(filtered_df.isnull().sum())\n",
    "    \n",
    "        return filtered_df\n",
    "    \n",
    "    def fit(self, model=None):\n",
    "        print('Training started')\n",
    "        print(self.imputer_train_df.columns)\n",
    "        if 'Unnamed: 0' in self.imputer_train_df.columns:\n",
    "            self.imputer_train_df.drop(columns='Unnamed: 0', inplace=True)\n",
    "    \n",
    "        _X = self.imputer_train_df.drop(self.target, axis=1)\n",
    "        _y = self.imputer_train_df[self.target].dropna()\n",
    "    \n",
    "        self._X_train, _X_val, self._y_train, _y_val = train_test_split(_X, _y, test_size=0.2, random_state=42)\n",
    "    \n",
    "        if model is None:\n",
    "            self.imputer = RandomForestRegressor(max_depth=10, min_samples_leaf=4, min_samples_split=2,\n",
    "                                                 n_estimators=400,\n",
    "                                                 random_state=42)\n",
    "        else:\n",
    "            self.imputer = model\n",
    "    \n",
    "        # Train the RandomForestRegressor on the training set\n",
    "        self.imputer.fit(self._X_train, self._y_train)\n",
    "    \n",
    "        # Predict the 'Sunshine' column for the test set\n",
    "        _y_pred = self.imputer.predict(_X_val)\n",
    "    \n",
    "        # Evaluate the model performance\n",
    "        _mse = mean_squared_error(_y_val, _y_pred)\n",
    "        _r2 = r2_score(_y_val, _y_pred)\n",
    "    \n",
    "        print(f'Training finished!\\n mse = {_mse}, r2 = {_r2}')\n",
    "    \n",
    "    def grid_search(self, param_grid=None):\n",
    "        if param_grid is None:\n",
    "            print('No parameter grip passed')\n",
    "            pass\n",
    "        try:\n",
    "            param_grid = {\n",
    "                'n_estimators': [200, 400],\n",
    "                'max_depth': [10, 20],\n",
    "                'min_samples_split': [2],\n",
    "                'min_samples_leaf': [2, 4],\n",
    "            }\n",
    "    \n",
    "            # Initialize the grid search with cross-validation\n",
    "            self.imputer = GridSearchCV(estimator=RandomForestRegressor(random_state=42),\n",
    "                                        param_grid=param_grid,\n",
    "                                        cv=5,  # 5-fold cross-validation\n",
    "                                        n_jobs=-1,  # Use all available cores\n",
    "                                        verbose=2)\n",
    "    \n",
    "            # Perform the grid search on the training data\n",
    "            self.imputer.fit(self._X_train, self._y_train)\n",
    "    \n",
    "            # Best parameters found by grid search\n",
    "            self.best_params = self.imputer.best_params_\n",
    "            self.best_score = self.imputer.best_score_\n",
    "    \n",
    "            print('The best parameters-score found are:\\n', self.best_params, self.best_score)\n",
    "    \n",
    "        except Exception as e:\n",
    "            print(e)\n",
    "    \n",
    "    def save_impute_csv(self):\n",
    "        # Ορίστε τον κατάλογο όπου θα αποθηκεύονται τα αρχεία\n",
    "        directory = 'content/data/'\n",
    "        prefix = f'{self.target}_imputer_train_'\n",
    "        suffix = '.csv'\n",
    "    \n",
    "        # Βρείτε τον υψηλότερο δείκτη αρχείου που έχει ήδη χρησιμοποιηθεί\n",
    "        max_index = 0\n",
    "        for filename in os.listdir(directory):\n",
    "            if filename.startswith(prefix) and filename.endswith(suffix):\n",
    "                # Αφαιρέστε το prefix και το suffix για να πάρετε μόνο τον αριθμό\n",
    "                index_part = filename[len(prefix):-len(suffix)]\n",
    "                if index_part.isdigit():\n",
    "                    max_index = max(max_index, int(index_part))\n",
    "    \n",
    "        # Ορίστε τον επόμενο δείκτη για το νέο αρχείο\n",
    "        next_index = max_index + 1\n",
    "    \n",
    "        # Δημιουργήστε το όνομα του αρχείου με τον νέο δείκτη\n",
    "        filename = f'{directory}{prefix}{next_index}{suffix}'\n",
    "    \n",
    "        # Αποθηκεύστε το DataFrame σε CSV\n",
    "        self.imputer_train_df.to_csv(filename)\n",
    "        print(f'File saved as {filename}')\n",
    "    \n",
    "    def load_impute_csv(self, new_imputer_train_csv_path):\n",
    "        self.imputer_train_df = pd.read_csv(new_imputer_train_csv_path)\n"
   ],
   "metadata": {
    "collapsed": false,
    "ExecuteTime": {
     "end_time": "2023-11-21T19:31:06.414502910Z",
     "start_time": "2023-11-21T19:31:06.160732250Z"
    }
   }
  },
  {
   "cell_type": "markdown",
   "source": [
    "Initializing useful variables to be used for imputation"
   ],
   "metadata": {
    "collapsed": false
   }
  },
  {
   "cell_type": "code",
   "execution_count": 87,
   "outputs": [],
   "source": [
    "filtered_data = original_train.dropna(subset=['Sunshine', 'Cloud9am', 'Cloud3pm', 'RainToday', 'RainTomorrow'])\n",
    "\n",
    "numeric_data = filtered_data.select_dtypes(include='number')\n",
    "full_correlation_matrix = numeric_data.corr()\n",
    "\n",
    "excluded_features = ['Cloud9am', 'Cloud3pm', 'Sunshine', 'Evaporation'] # because with them, we get left with many missing values even with imputation\n",
    "test_excluded_features = ['Cloud9am', 'Cloud3pm', 'Sunshine', 'Evaporation', 'RainTomorrow']\n",
    "\n",
    "selected_features = ['Cloud9am', 'Cloud3pm', 'RainToday', 'RainTomorrow', 'Sunshine', 'Evaporation']\n",
    "\n",
    "high_corr_dict = {\n",
    "    feature: abs_corr[(abs_corr > 0.3) & (~abs_corr.index.isin(excluded_features))].drop(feature, errors='ignore')\n",
    "    for feature in selected_features\n",
    "    if (abs_corr := abs(full_correlation_matrix[feature]).sort_values(ascending=False)).any()\n",
    "}\n",
    "\n",
    "test_high_corr_dict = {\n",
    "    feature: abs_corr[(abs_corr > 0.3) & (~abs_corr.index.isin(test_excluded_features))].drop(feature, errors='ignore')\n",
    "    for feature in selected_features\n",
    "    if (abs_corr := abs(full_correlation_matrix[feature]).sort_values(ascending=False)).any()\n",
    "}\n",
    "\n",
    "# Same for the test s# Finding the missing values percentage of every attribute:\n",
    "# Calculate the number of missing values and the percentage of the total for each column\n",
    "# test_data = pd.read_csv(test_dataset_path)\n",
    "test_data = pd.read_csv('content/data/new_test.csv')\n",
    "missing_values_count = test_data.isnull().sum()\n",
    "missing_values_percentage = (missing_values_count / len(test_data)) * 100\n",
    "\n",
    "# Create a dataframe for missing values count and percentage for each column\n",
    "missing_values_df = pd.DataFrame({\n",
    "    'Missing Values': missing_values_count,\n",
    "    'Percentage': missing_values_percentage\n",
    "})\n",
    "\n",
    "missing_values_df_sorted = missing_values_df[missing_values_df['Missing Values'] > 0].sort_values(by='Percentage',\n",
    "                                                                                                  ascending=False)"
   ],
   "metadata": {
    "collapsed": false,
    "ExecuteTime": {
     "end_time": "2023-11-21T22:40:40.162585363Z",
     "start_time": "2023-11-21T22:40:40.051989709Z"
    }
   }
  },
  {
   "cell_type": "code",
   "execution_count": 88,
   "outputs": [
    {
     "name": "stdout",
     "output_type": "stream",
     "text": [
      "{'Cloud3pm'} ['Temp3pm', 'Humidity3pm', 'Humidity9am', 'RainTomorrow', 'Cloud3pm']\n",
      "Temp3pm         0\n",
      "Humidity3pm     0\n",
      "Humidity9am     0\n",
      "RainTomorrow    0\n",
      "Cloud3pm        0\n",
      "dtype: int64\n",
      "Training started\n",
      "Index(['Temp3pm', 'Humidity3pm', 'Humidity9am', 'RainTomorrow', 'Cloud3pm'], dtype='object')\n",
      "Training finished!\n",
      " mse = 4.9196747489073775, r2 = 0.3324979791647579\n",
      "{'Sunshine'} ['Temp3pm', 'Humidity3pm', 'MaxTemp', 'RainTomorrow', 'RainToday', 'Humidity9am', 'Sunshine']\n",
      "Temp3pm         0\n",
      "Humidity3pm     0\n",
      "MaxTemp         0\n",
      "RainTomorrow    0\n",
      "RainToday       0\n",
      "Humidity9am     0\n",
      "Sunshine        0\n",
      "dtype: int64\n",
      "Training started\n",
      "Index(['Temp3pm', 'Humidity3pm', 'MaxTemp', 'RainTomorrow', 'RainToday',\n",
      "       'Humidity9am', 'Sunshine'],\n",
      "      dtype='object')\n",
      "Training finished!\n",
      " mse = 6.179001755606927, r2 = 0.5098022959802327\n",
      "{'Cloud9am'} ['Humidity3pm', 'RainToday', 'Humidity9am', 'RainTomorrow', 'Cloud9am']\n",
      "Humidity3pm     0\n",
      "RainToday       0\n",
      "Humidity9am     0\n",
      "RainTomorrow    0\n",
      "Cloud9am        0\n",
      "dtype: int64\n",
      "Training started\n",
      "Index(['Humidity3pm', 'RainToday', 'Humidity9am', 'RainTomorrow', 'Cloud9am'], dtype='object')\n",
      "Training finished!\n",
      " mse = 5.612253639111271, r2 = 0.336994108978249\n",
      "{'Evaporation'} ['Temp3pm', 'Humidity3pm', 'Temp9am', 'MinTemp', 'MaxTemp', 'Humidity9am', 'Evaporation']\n",
      "Temp3pm        0\n",
      "Humidity3pm    0\n",
      "Temp9am        0\n",
      "MinTemp        0\n",
      "MaxTemp        0\n",
      "Humidity9am    0\n",
      "Evaporation    0\n",
      "dtype: int64\n",
      "Training started\n",
      "Index(['Temp3pm', 'Humidity3pm', 'Temp9am', 'MinTemp', 'MaxTemp',\n",
      "       'Humidity9am', 'Evaporation'],\n",
      "      dtype='object')\n",
      "Training finished!\n",
      " mse = 6.539439589022758, r2 = 0.4578733901606242\n",
      "{'Cloud3pm'} ['Temp3pm', 'Humidity3pm', 'Humidity9am', 'Cloud3pm']\n",
      "Temp3pm        0\n",
      "Humidity3pm    0\n",
      "Humidity9am    0\n",
      "Cloud3pm       0\n",
      "dtype: int64\n",
      "Training started\n",
      "Index(['Temp3pm', 'Humidity3pm', 'Humidity9am', 'Cloud3pm'], dtype='object')\n",
      "Training finished!\n",
      " mse = 5.089674961781792, r2 = 0.30943233124539204\n",
      "{'Sunshine'} ['Temp3pm', 'Humidity3pm', 'MaxTemp', 'RainToday', 'Humidity9am', 'Sunshine']\n",
      "Temp3pm        0\n",
      "Humidity3pm    0\n",
      "MaxTemp        0\n",
      "RainToday      0\n",
      "Humidity9am    0\n",
      "Sunshine       0\n",
      "dtype: int64\n",
      "Training started\n",
      "Index(['Temp3pm', 'Humidity3pm', 'MaxTemp', 'RainToday', 'Humidity9am',\n",
      "       'Sunshine'],\n",
      "      dtype='object')\n",
      "Training finished!\n",
      " mse = 6.537530630554688, r2 = 0.48135918521971155\n",
      "{'Cloud9am'} ['Humidity3pm', 'RainToday', 'Humidity9am', 'Cloud9am']\n",
      "Humidity3pm    0\n",
      "RainToday      0\n",
      "Humidity9am    0\n",
      "Cloud9am       0\n",
      "dtype: int64\n",
      "Training started\n",
      "Index(['Humidity3pm', 'RainToday', 'Humidity9am', 'Cloud9am'], dtype='object')\n",
      "Training finished!\n",
      " mse = 5.6903701252140815, r2 = 0.32776578577646953\n",
      "{'Evaporation'} ['Temp3pm', 'Humidity3pm', 'Temp9am', 'MinTemp', 'MaxTemp', 'Humidity9am', 'Evaporation']\n",
      "Temp3pm        0\n",
      "Humidity3pm    0\n",
      "Temp9am        0\n",
      "MinTemp        0\n",
      "MaxTemp        0\n",
      "Humidity9am    0\n",
      "Evaporation    0\n",
      "dtype: int64\n",
      "Training started\n",
      "Index(['Temp3pm', 'Humidity3pm', 'Temp9am', 'MinTemp', 'MaxTemp',\n",
      "       'Humidity9am', 'Evaporation'],\n",
      "      dtype='object')\n",
      "Training finished!\n",
      " mse = 6.539439589022758, r2 = 0.4578733901606242\n"
     ]
    }
   ],
   "source": [
    "cloud3pm_imputer = Imputer(high_corr_dict['Cloud3pm'].keys(), 'Cloud3pm', instant_train=True)\n",
    "sunshine_imputer = Imputer(high_corr_dict['Sunshine'].keys(), 'Sunshine', instant_train=True)\n",
    "cloud9am_imputer = Imputer(high_corr_dict['Cloud9am'].keys(), 'Cloud9am', instant_train=True)\n",
    "evaporation_imputer = Imputer(high_corr_dict['Evaporation'].keys(), 'Evaporation', instant_train=True)\n",
    "\n",
    "test_cloud3pm_imputer = Imputer(test_high_corr_dict['Cloud3pm'].keys(), 'Cloud3pm', instant_train=True)\n",
    "test_sunshine_imputer = Imputer(test_high_corr_dict['Sunshine'].keys(), 'Sunshine', instant_train=True)\n",
    "test_cloud9am_imputer = Imputer(test_high_corr_dict['Cloud9am'].keys(), 'Cloud9am', instant_train=True)\n",
    "test_evaporation_imputer = Imputer(test_high_corr_dict['Evaporation'].keys(), 'Evaporation', instant_train=True)\n",
    "\n",
    "import pickle\n",
    "\n",
    "with open('sunshine.pkl', 'wb') as file:\n",
    "    pickle.dump(sunshine_imputer.imputer, file)\n",
    "with open('cloud9am.pkl', 'wb') as file:\n",
    "    pickle.dump(cloud9am_imputer.imputer, file)\n",
    "with open('cloud3pm.pkl', 'wb') as file:\n",
    "    pickle.dump(cloud3pm_imputer.imputer, file)\n",
    "with open('evaporation.pkl', 'wb') as file:\n",
    "    pickle.dump(evaporation_imputer.imputer, file)\n",
    "\n",
    "with open('test_sunshine.pkl', 'wb') as file:\n",
    "    pickle.dump(test_sunshine_imputer.imputer, file)\n",
    "with open('test_cloud9am.pkl', 'wb') as file:\n",
    "    pickle.dump(test_cloud9am_imputer.imputer, file)\n",
    "with open('test_cloud3pm.pkl', 'wb') as file:\n",
    "    pickle.dump(test_cloud3pm_imputer.imputer, file)\n",
    "with open('test_evaporation.pkl', 'wb') as file:\n",
    "    pickle.dump(test_evaporation_imputer.imputer, file)\n",
    "\n",
    "# TODO EXPLAIN R2 LOSS"
   ],
   "metadata": {
    "collapsed": false,
    "ExecuteTime": {
     "end_time": "2023-11-21T22:42:09.457885404Z",
     "start_time": "2023-11-21T22:40:57.033741106Z"
    }
   }
  },
  {
   "cell_type": "code",
   "execution_count": 89,
   "outputs": [
    {
     "name": "stdout",
     "output_type": "stream",
     "text": [
      "(48423, 24) id                   0\n",
      "Date                 0\n",
      "Location             0\n",
      "MinTemp              0\n",
      "MaxTemp              0\n",
      "Rainfall             0\n",
      "Evaporation      20384\n",
      "Sunshine         22997\n",
      "WindGustDir          0\n",
      "WindGustSpeed        0\n",
      "WindDir9am           0\n",
      "WindDir3pm           0\n",
      "WindSpeed9am         0\n",
      "WindSpeed3pm         0\n",
      "Humidity9am          0\n",
      "Humidity3pm          0\n",
      "Pressure9am          0\n",
      "Pressure3pm          0\n",
      "Cloud9am         17890\n",
      "Cloud3pm         18981\n",
      "Temp9am              0\n",
      "Temp3pm              0\n",
      "RainToday            0\n",
      "RainTomorrow         0\n",
      "dtype: int64\n",
      "Date                0\n",
      "Location            0\n",
      "MinTemp             0\n",
      "MaxTemp             0\n",
      "Rainfall            0\n",
      "Evaporation      4139\n",
      "Sunshine         4636\n",
      "WindGustDir         0\n",
      "WindGustSpeed       0\n",
      "WindDir9am          0\n",
      "WindDir3pm          0\n",
      "WindSpeed9am        0\n",
      "WindSpeed3pm        0\n",
      "Humidity9am         0\n",
      "Humidity3pm         0\n",
      "Pressure9am         0\n",
      "Pressure3pm         0\n",
      "Cloud9am         3639\n",
      "Cloud3pm         3852\n",
      "Temp9am             0\n",
      "Temp3pm             0\n",
      "RainToday           0\n",
      "dtype: int64\n"
     ]
    }
   ],
   "source": [
    "# Now first impute the low missing valued attrs with median and then impute the high valued ones with the Imputers\n",
    "\n",
    "# Adjusting the imputation process to handle both numeric and categorical columns appropriately\n",
    "columns_to_impute = missing_values_df_sorted[missing_values_df_sorted['Percentage'] < 10].index.tolist()\n",
    "\n",
    "imputed_data = original_train.copy()\n",
    "\n",
    "for column in columns_to_impute:\n",
    "    if column not in ['id', 'Date', 'Location', 'Rainfall', 'RainToday', 'RainTomorrow']:\n",
    "        # Check if the column is of numeric type\n",
    "        if pd.api.types.is_numeric_dtype(imputed_data[column]):\n",
    "            median_value = imputed_data[column].median()\n",
    "            imputed_data[column].fillna(median_value, inplace=True)\n",
    "        else:\n",
    "            # For categorical columns, use the mode\n",
    "            mode_value = imputed_data[column].mode()[0]\n",
    "            imputed_data[column].fillna(mode_value, inplace=True)\n",
    "\n",
    "# Verify if the imputation is successful by checking missing values again\n",
    "imputed_missing_values = imputed_data.isnull().sum()\n",
    "\n",
    "# Save the modified dataframe to a new CSV file\n",
    "imputed_data_path = 'content/data/low_imputed_train_val.csv'\n",
    "imputed_data.to_csv(imputed_data_path, index=False)\n",
    "\n",
    "print(imputed_data.shape, imputed_missing_values)\n",
    "\n",
    "# Now for test\n",
    "\n",
    "import pandas as pd\n",
    "\n",
    "# Load the dataset\n",
    "original_test = pd.read_csv('content/data/new_test.csv')\n",
    "\n",
    "# Calculate the count and percentage of missing values for each column\n",
    "test_miss_cnt = original_test.isnull().sum()\n",
    "test_miss_percent = (test_miss_cnt / len(original_test)) * 100\n",
    "\n",
    "# Create a dataframe to display the missing values count and percentage for each column\n",
    "test_miss_values_df = pd.DataFrame({\n",
    "    'Missing Values': test_miss_cnt,\n",
    "    'Percentage': test_miss_percent\n",
    "})\n",
    "\n",
    "# Filter columns where the percentage of missing values is less than 10%\n",
    "columns_to_impute = test_miss_values_df[test_miss_values_df['Percentage'] < 10].index\n",
    "\n",
    "# Impute missing values with median for numerical attributes and mode for categorical attributes\n",
    "for column in columns_to_impute:\n",
    "    if original_test[column].dtype == 'object':  # Assuming object dtype implies categorical\n",
    "        # Impute with the mode (the most frequent value)\n",
    "        mode_value = original_test[column].mode()[0]\n",
    "        original_test[column].fillna(mode_value, inplace=True)\n",
    "    else:\n",
    "        # Impute with the median\n",
    "        median_value = original_test[column].median()\n",
    "        original_test[column].fillna(median_value, inplace=True)\n",
    "\n",
    "# Verify the imputation\n",
    "print(original_test.isnull().sum())\n",
    "\n",
    "original_test.to_csv('content/data/low_imputed_test.csv')\n"
   ],
   "metadata": {
    "collapsed": false,
    "ExecuteTime": {
     "end_time": "2023-11-21T22:42:18.058884403Z",
     "start_time": "2023-11-21T22:42:17.461211733Z"
    }
   }
  },
  {
   "cell_type": "markdown",
   "source": [
    "# Now for artificially generated imputation"
   ],
   "metadata": {
    "collapsed": false
   }
  },
  {
   "cell_type": "code",
   "execution_count": 90,
   "outputs": [
    {
     "name": "stdout",
     "output_type": "stream",
     "text": [
      "imputing in train\n",
      "Missing values remaining in Cloud9am: 17890\n",
      "Missing values remaining in Cloud3pm: 18981\n",
      "Missing values remaining in Sunshine: 22997\n",
      "Missing values remaining in Evaporation: 20384\n",
      "Missing values remaining in Cloud9am: 0\n",
      "Missing values remaining in Cloud3pm: 0\n",
      "Missing values remaining in Sunshine: 0\n",
      "Missing values remaining in Evaporation: 0\n",
      "imputing in test\n",
      "Missing values remaining in Cloud9am: 3639\n",
      "Missing values remaining in Cloud3pm: 3852\n",
      "Missing values remaining in Sunshine: 4636\n",
      "Missing values remaining in Evaporation: 4139\n",
      "Missing values remaining in Cloud9am: 0\n",
      "Missing values remaining in Cloud3pm: 0\n",
      "Missing values remaining in Sunshine: 0\n",
      "Missing values remaining in Evaporation: 0\n"
     ]
    }
   ],
   "source": [
    "# Define the paths for the models and the dataset\n",
    "all_model_paths = {\n",
    "    'train': {\n",
    "        'Cloud9am': 'cloud9am.pkl',\n",
    "        'Cloud3pm': 'cloud3pm.pkl',\n",
    "        'Sunshine': 'sunshine.pkl',\n",
    "        'Evaporation': 'evaporation.pkl'\n",
    "    },\n",
    "    'test': {\n",
    "        'Cloud9am': 'test_cloud9am.pkl',\n",
    "        'Cloud3pm': 'test_cloud3pm.pkl',\n",
    "        'Sunshine': 'test_sunshine.pkl',\n",
    "        'Evaporation': 'test_evaporation.pkl'\n",
    "    }\n",
    "}\n",
    "\n",
    "train_data = pd.read_csv('content/data/low_imputed_train_val.csv')\n",
    "test_data = pd.read_csv('content/data/low_imputed_test.csv')\n",
    "\n",
    "\n",
    "def impute_attrs(is_train: bool, data, save_filename):\n",
    "    \"\"\"This functions imputes the high missing data and saves the imputed dataframes in csv with save_filename name.\"\"\"\n",
    "    model_paths = all_model_paths['train'] if is_train else all_model_paths['test']\n",
    "\n",
    "    # plots missing value count\n",
    "    for column in model_paths.keys():\n",
    "        missing_replaced = data[data[column].isna()]\n",
    "        print(f'Missing values remaining in {column}: {missing_replaced[column].isna().sum()}')\n",
    "\n",
    "    for column, model_path in model_paths.items():\n",
    "        model = pd.read_pickle(model_path)\n",
    "\n",
    "        # Sort the feature columns in the same order as during the model training\n",
    "        features_for_prediction = list(model.feature_names_in_)\n",
    "\n",
    "        # Filter the data: we use only rows where the target column is NaN and the features are not NaN\n",
    "        filtered_data = data[data[column].isna() & data[features_for_prediction].notna().all(axis=1)]\n",
    "        # TODO DANGEROUS\n",
    "\n",
    "        X_for_prediction = filtered_data[features_for_prediction]\n",
    "        predicted_values = model.predict(X_for_prediction)\n",
    "\n",
    "        # Create a series with the predicted values, with the same index as the filtered_data\n",
    "        predicted_series = pd.Series(predicted_values, index=filtered_data.index)\n",
    "        data[column].fillna(predicted_series, inplace=True)\n",
    "\n",
    "    # Verify if the missing values have been replaced successfully\n",
    "    for column in model_paths.keys():\n",
    "        missing_replaced = data[data[column].isna()]\n",
    "        print(f'Missing values remaining in {column}: {missing_replaced[column].isna().sum()}')\n",
    "    # Save the updated dataset\n",
    "    data.to_csv(save_filename, index=False)\n",
    "\n",
    "\n",
    "print('imputing in train')\n",
    "impute_attrs(True, train_data, 'content/data/updated_low_imputed_train_val.csv')\n",
    "print('imputing in test')\n",
    "impute_attrs(False, test_data, 'content/data/updated_low_imputed_test.csv')\n"
   ],
   "metadata": {
    "collapsed": false,
    "ExecuteTime": {
     "end_time": "2023-11-21T22:42:32.996930137Z",
     "start_time": "2023-11-21T22:42:29.776353537Z"
    }
   }
  },
  {
   "cell_type": "markdown",
   "source": [
    "# Artificial Imputation finished"
   ],
   "metadata": {
    "collapsed": false
   }
  },
  {
   "cell_type": "markdown",
   "source": [
    "3.γ. Γράψτε κώδικα για την κατάλληλη μετατροπή των κατηγορικών μεταβλητών ώστε να μπορούν να τους διαχειριστούν οι ταξινομητές που θα χρησιμοποιήσετε."
   ],
   "metadata": {
    "id": "ZRq1eHYfNoEO"
   }
  },
  {
   "cell_type": "markdown",
   "source": [
    "Add WeekOfTheYear"
   ],
   "metadata": {
    "collapsed": false
   }
  },
  {
   "cell_type": "code",
   "execution_count": 91,
   "outputs": [],
   "source": [
    "data = pd.read_csv('content/data/updated_low_imputed_train_val.csv')\n",
    "test_data = pd.read_csv('content/data/updated_low_imputed_test.csv')\n",
    "\n",
    "data['Date'] = pd.to_datetime(data['Date'])\n",
    "test_data['Date'] = pd.to_datetime(test_data['Date'], format=\"%d/%m/%Y\")\n",
    "data['WeekOfYear'] = data['Date'].dt.isocalendar().week\n",
    "test_data['WeekOfYear'] = test_data['Date'].dt.isocalendar().week\n",
    "\n",
    "test_data.to_csv('content/data/updated_low_imputed_train_val.csv')\n",
    "data.to_csv('content/data/updated_low_imputed_test.csv')\n"
   ],
   "metadata": {
    "collapsed": false,
    "ExecuteTime": {
     "end_time": "2023-11-21T22:43:22.077856058Z",
     "start_time": "2023-11-21T22:43:21.374848514Z"
    }
   }
  },
  {
   "cell_type": "code",
   "execution_count": 92,
   "outputs": [
    {
     "name": "stderr",
     "output_type": "stream",
     "text": [
      "/home/kostiskak/anaconda3/envs/ai_env/lib/python3.11/site-packages/sklearn/preprocessing/_encoders.py:868: FutureWarning: `sparse` was renamed to `sparse_output` in version 1.2 and will be removed in 1.4. `sparse_output` is ignored unless you leave `sparse` to its default value.\n",
      "  warnings.warn(\n"
     ]
    },
    {
     "data": {
      "text/plain": "((48423, 93), (9699, 93))"
     },
     "execution_count": 92,
     "metadata": {},
     "output_type": "execute_result"
    }
   ],
   "source": [
    "# Here we forget about the numerical values and just encode the categorical ones\n",
    "from sklearn.preprocessing import OneHotEncoder\n",
    "\n",
    "cat_cols = data.select_dtypes(include=['object']).columns.difference(\n",
    "    ['Date'])  # ['Location', 'WindGustDir', 'WindDir9am', 'WindDir3pm']\n",
    "\n",
    "encoder = OneHotEncoder(sparse=False, drop='first', handle_unknown='ignore')\n",
    "\n",
    "encoder.fit(data[cat_cols])\n",
    "\n",
    "encoded_cats_train = encoder.transform(data[cat_cols])\n",
    "encoded_cats_test = encoder.transform(test_data[cat_cols])\n",
    "\n",
    "encoded_cat_columns = encoder.get_feature_names_out(cat_cols)\n",
    "\n",
    "encoded_train_df = pd.DataFrame(encoded_cats_train, columns=encoded_cat_columns)\n",
    "encoded_train_df.to_csv('content/data/my_train_encoded.csv')\n",
    "encoded_test_df = pd.DataFrame(encoded_cats_test, columns=encoded_cat_columns)\n",
    "encoded_test_df.to_csv('content/data/my_test_encoded.csv')\n",
    "\n",
    "encoded_cats_train.shape, encoded_cats_test.shape"
   ],
   "metadata": {
    "collapsed": false,
    "ExecuteTime": {
     "end_time": "2023-11-21T22:43:31.647015265Z",
     "start_time": "2023-11-21T22:43:29.763061417Z"
    }
   }
  },
  {
   "cell_type": "code",
   "execution_count": 93,
   "outputs": [
    {
     "data": {
      "text/plain": "((48423, 112), (9699, 112))"
     },
     "execution_count": 93,
     "metadata": {},
     "output_type": "execute_result"
    }
   ],
   "source": [
    "from sklearn.preprocessing import StandardScaler\n",
    "\n",
    "# Now we forget about the categorical values and scale only the numerical ones\n",
    "\n",
    "# Here we don't use inline because we don't want to change the real data this time\n",
    "numerical_cols_train = data.select_dtypes(include=['number']).columns.drop(['id', 'RainTomorrow', 'WeekOfYear'])\n",
    "numerical_cols_test = test_data.select_dtypes(include=['number']).columns.drop(\n",
    "    'WeekOfYear')  # 'id' is already not present\n",
    "\n",
    "scaler = StandardScaler()\n",
    "scaler.fit(data[numerical_cols_train])\n",
    "test_scaler = StandardScaler()\n",
    "test_scaler.fit(test_data[numerical_cols_test])\n",
    "\n",
    "scaled_numerical_train = scaler.transform(data[numerical_cols_train])\n",
    "scaled_numerical_test = test_scaler.transform(test_data[numerical_cols_test])\n",
    "\n",
    "# For the training data, we need to include the target variable as well\n",
    "final_train_data = np.hstack(\n",
    "    (scaled_numerical_train, encoded_cats_train, data[['WeekOfYear']].values, data[['RainTomorrow']].values))\n",
    "final_test_data = np.hstack((scaled_numerical_test, encoded_cats_test, test_data[['WeekOfYear']].values))\n",
    "\n",
    "final_train_df = pd.DataFrame(final_train_data)\n",
    "final_test_df = pd.DataFrame(final_test_data)\n",
    "\n",
    "# final_train_df.to_csv('content/data/final_train.csv')      # FOR VERSION 1\n",
    "# final_test_df.to_csv('content/data/final_test.csv')\n",
    "final_train_df.to_csv('content/data/version2_final_train.csv')  # FOR VERSION 2\n",
    "final_test_df.to_csv('content/data/version2_final_test.csv')\n",
    "\n",
    "# Checking the shapes of the final datasets ready for model input\n",
    "final_train_data.shape, final_test_data.shape"
   ],
   "metadata": {
    "collapsed": false,
    "ExecuteTime": {
     "end_time": "2023-11-21T22:43:35.752505949Z",
     "start_time": "2023-11-21T22:43:33.489607450Z"
    }
   }
  },
  {
   "cell_type": "code",
   "execution_count": 94,
   "outputs": [],
   "source": [
    "# Create a list of the new column names for the one-hot encoded categorical data\n",
    "encoded_cat_columns = encoder.get_feature_names_out(cat_cols)\n",
    "\n",
    "# Combine this list with the names of the numerical columns and the added 'WeekOfYear' feature\n",
    "final_column_names_train = list(numerical_cols_train) + list(encoded_cat_columns) + ['WeekOfYear', 'RainTomorrow']\n",
    "final_column_names_test = list(numerical_cols_test) + list(encoded_cat_columns) + ['WeekOfYear']\n",
    "\n",
    "# Create the final DataFrames with the correct column names\n",
    "final_train_df_with_names = pd.DataFrame(final_train_data, columns=final_column_names_train)\n",
    "final_test_df_with_names = pd.DataFrame(final_test_data, columns=final_column_names_test)\n",
    "\n",
    "# Save the DataFrames with column names to CSV files\n",
    "final_train_df_with_names.to_csv('content/data/version2_final_train.csv') \n",
    "final_test_df_with_names.to_csv('content/data/version2_final_test.csv')"
   ],
   "metadata": {
    "collapsed": false,
    "ExecuteTime": {
     "end_time": "2023-11-21T22:43:37.859155975Z",
     "start_time": "2023-11-21T22:43:35.755526673Z"
    }
   }
  },
  {
   "cell_type": "code",
   "source": [
    "train_data = pd.read_csv('content/data/version2_final_train.csv') \n",
    "test_data = pd.read_csv('content/data/version2_final_test.csv')"
   ],
   "metadata": {
    "id": "_LdteolxhZfi",
    "ExecuteTime": {
     "end_time": "2023-11-21T22:43:41.871830394Z",
     "start_time": "2023-11-21T22:43:41.425449795Z"
    }
   },
   "execution_count": 95,
   "outputs": []
  },
  {
   "cell_type": "code",
   "source": [
    "X = train_data.drop('RainTomorrow', axis=1)\n",
    "y = train_data['RainTomorrow']\n",
    "X, y"
   ],
   "metadata": {
    "id": "FysfIb93LJxS",
    "ExecuteTime": {
     "end_time": "2023-11-21T22:43:43.628734375Z",
     "start_time": "2023-11-21T22:43:43.603734608Z"
    }
   },
   "execution_count": 96,
   "outputs": [
    {
     "data": {
      "text/plain": "(       Unnamed: 0   MinTemp   MaxTemp  Rainfall  Evaporation  Sunshine  \\\n 0               0  0.519119  0.096661 -0.273618     0.605387  0.784202   \n 1               1  0.138832  0.081395 -0.300728     0.010790  0.749517   \n 2               2  0.519119  1.577446 -0.300728     1.385021  1.197144   \n 3               3  0.800200  1.607978 -0.300728     1.256573  0.483985   \n 4               4  1.279692  1.378990 -0.138069     1.226445  1.082613   \n ...           ...       ...       ...       ...          ...       ...   \n 48418       48418 -0.919357 -0.269719 -0.300728    -0.135200  0.687650   \n 48419       48419 -0.902823  0.432509 -0.300728     0.105119  1.040419   \n 48420       48420 -1.183904  0.050864 -0.300728    -0.126560  0.856358   \n 48421       48421 -0.869754  0.829421 -0.300728     0.340754  1.023518   \n 48422       48422 -0.472934  0.844687 -0.300728     0.368844  1.029458   \n \n        WindGustSpeed  WindSpeed9am  WindSpeed3pm  Humidity9am  ...  \\\n 0           1.330120      1.382060      1.674755    -0.726456  ...   \n 1           0.813885      0.597740      1.674755    -0.566107  ...   \n 2          -1.103558     -0.858856     -0.136578    -1.154053  ...   \n 3           0.813885     -1.307039     -1.608286    -1.047154  ...   \n 4           0.371398      0.149556      0.089839    -0.726456  ...   \n ...              ...           ...           ...          ...  ...   \n 48418       0.518894     -0.074535     -0.136578    -0.779906  ...   \n 48419      -1.103558     -0.298627     -0.815828    -0.940255  ...   \n 48420      -0.587323      0.149556     -0.589411    -0.619557  ...   \n 48421      -0.144837     -0.522718     -1.042245    -0.940255  ...   \n 48422      -0.808567     -0.074535     -1.268661    -1.047154  ...   \n \n        WindGustDir_NW  WindGustDir_S  WindGustDir_SE  WindGustDir_SSE  \\\n 0                 0.0            0.0             0.0              0.0   \n 1                 0.0            0.0             0.0              0.0   \n 2                 0.0            0.0             0.0              0.0   \n 3                 0.0            0.0             0.0              0.0   \n 4                 0.0            0.0             0.0              0.0   \n ...               ...            ...             ...              ...   \n 48418             0.0            0.0             0.0              0.0   \n 48419             0.0            0.0             0.0              0.0   \n 48420             0.0            0.0             0.0              0.0   \n 48421             0.0            0.0             0.0              0.0   \n 48422             0.0            0.0             1.0              0.0   \n \n        WindGustDir_SSW  WindGustDir_SW  WindGustDir_W  WindGustDir_WNW  \\\n 0                  0.0             0.0            0.0              1.0   \n 1                  0.0             1.0            0.0              0.0   \n 2                  0.0             0.0            0.0              0.0   \n 3                  0.0             0.0            0.0              0.0   \n 4                  0.0             0.0            0.0              0.0   \n ...                ...             ...            ...              ...   \n 48418              0.0             0.0            0.0              0.0   \n 48419              0.0             0.0            0.0              0.0   \n 48420              0.0             0.0            0.0              0.0   \n 48421              0.0             0.0            0.0              0.0   \n 48422              0.0             0.0            0.0              0.0   \n \n        WindGustDir_WSW  WeekOfYear  \n 0                  0.0          10  \n 1                  0.0          10  \n 2                  0.0          11  \n 3                  0.0          11  \n 4                  0.0          11  \n ...                ...         ...  \n 48418              0.0          24  \n 48419              0.0          24  \n 48420              0.0          25  \n 48421              0.0          25  \n 48422              0.0          25  \n \n [48423 rows x 112 columns],\n 0        0.0\n 1        0.0\n 2        0.0\n 3        1.0\n 4        0.0\n         ... \n 48418    0.0\n 48419    0.0\n 48420    0.0\n 48421    0.0\n 48422    0.0\n Name: RainTomorrow, Length: 48423, dtype: float64)"
     },
     "execution_count": 96,
     "metadata": {},
     "output_type": "execute_result"
    }
   ]
  },
  {
   "cell_type": "code",
   "source": [
    "from imblearn.over_sampling import SMOTE\n",
    "from sklearn.model_selection import train_test_split\n",
    "import pandas as pd\n",
    "\n",
    "train_data = pd.read_csv('content/data/version2_final_train.csv')\n",
    "\n",
    "if 'Unnamed: 0' in train_data.columns:\n",
    "    print('THERE WAS!!')\n",
    "    train_data.drop('Unnamed: 0', axis=1, inplace=True)\n",
    "\n",
    "X = train_data.drop('RainTomorrow', axis=1)\n",
    "y = train_data['RainTomorrow']\n",
    "print(X.shape, y.shape)\n",
    "\n",
    "# Splitting the data into training and validation sets first\n",
    "X_train_tmp, X_val, y_train_tmp, y_val = train_test_split(X, y, test_size=0.3, random_state=42)\n",
    "\n",
    "# Apply SMOTE only on training data\n",
    "smote = SMOTE(random_state=42)\n",
    "X_train, y_train = smote.fit_resample(X_train_tmp, y_train_tmp)\n",
    "\n",
    "# Now X_train_resampled and y_train_resampled are your training data for the model\n",
    "print(X_train.shape, y_train.shape)\n",
    "\n",
    "# X_val and y_val remain unchanged and are used for validation\n"
   ],
   "metadata": {
    "id": "wcwB_TK1ixvl",
    "ExecuteTime": {
     "end_time": "2023-11-21T22:44:07.852672449Z",
     "start_time": "2023-11-21T22:44:07.254009741Z"
    }
   },
   "execution_count": 97,
   "outputs": [
    {
     "name": "stderr",
     "output_type": "stream",
     "text": [
      "Exception ignored on calling ctypes callback function: <function _ThreadpoolInfo._find_modules_with_dl_iterate_phdr.<locals>.match_module_callback at 0x7f13819d25c0>\n",
      "Traceback (most recent call last):\n",
      "  File \"/home/kostiskak/anaconda3/envs/ai_env/lib/python3.11/site-packages/threadpoolctl.py\", line 400, in match_module_callback\n",
      "    self._make_module_from_path(filepath)\n",
      "  File \"/home/kostiskak/anaconda3/envs/ai_env/lib/python3.11/site-packages/threadpoolctl.py\", line 515, in _make_module_from_path\n",
      "    module = module_class(filepath, prefix, user_api, internal_api)\n",
      "             ^^^^^^^^^^^^^^^^^^^^^^^^^^^^^^^^^^^^^^^^^^^^^^^^^^^^^^\n",
      "  File \"/home/kostiskak/anaconda3/envs/ai_env/lib/python3.11/site-packages/threadpoolctl.py\", line 606, in __init__\n",
      "    self.version = self.get_version()\n",
      "                   ^^^^^^^^^^^^^^^^^^\n",
      "  File \"/home/kostiskak/anaconda3/envs/ai_env/lib/python3.11/site-packages/threadpoolctl.py\", line 646, in get_version\n",
      "    config = get_config().split()\n",
      "             ^^^^^^^^^^^^^^^^^^\n",
      "AttributeError: 'NoneType' object has no attribute 'split'\n"
     ]
    },
    {
     "name": "stdout",
     "output_type": "stream",
     "text": [
      "THERE WAS!!\n",
      "(48423, 111) (48423,)\n",
      "(52360, 111) (52360,)\n"
     ]
    }
   ]
  },
  {
   "cell_type": "code",
   "execution_count": 98,
   "outputs": [],
   "source": [
    "from sklearn.metrics import classification_report, accuracy_score\n",
    "\n",
    "class Model:\n",
    "    def __init__(self, model, instant_fit_eval=False):\n",
    "        global X_train\n",
    "        global X_val\n",
    "        global y_train\n",
    "        global y_val\n",
    "        self.model = model\n",
    "        self.accuracy = 0.0\n",
    "        self.classification_report = ''\n",
    "        if instant_fit_eval:\n",
    "            print(self.model)\n",
    "            self.fit()\n",
    "            self.eval_res()\n",
    "        \n",
    "        \n",
    "    def fit(self):\n",
    "        self.model.fit(X_train, y_train)\n",
    "        \n",
    "    def eval_res(self):\n",
    "        y_pred = self.model.predict(X_val)\n",
    "        self.accuracy = accuracy_score(y_val, y_pred)\n",
    "        self.classification_report = classification_report(y_val, y_pred)\n",
    "        print(f'accuracy:\\n{self.accuracy}')\n",
    "        print(f'classification report\\n:{self.classification_report}')\n",
    "    \n",
    "    def __str__(self):\n",
    "        return self.model.__str__()    "
   ],
   "metadata": {
    "collapsed": false,
    "ExecuteTime": {
     "end_time": "2023-11-21T22:44:12.649925771Z",
     "start_time": "2023-11-21T22:44:12.589695340Z"
    }
   }
  },
  {
   "cell_type": "code",
   "execution_count": 68,
   "outputs": [
    {
     "name": "stderr",
     "output_type": "stream",
     "text": [
      "Exception ignored on calling ctypes callback function: <function _ThreadpoolInfo._find_modules_with_dl_iterate_phdr.<locals>.match_module_callback at 0x7f132f110ae0>\n",
      "Traceback (most recent call last):\n",
      "  File \"/home/kostiskak/anaconda3/envs/ai_env/lib/python3.11/site-packages/threadpoolctl.py\", line 400, in match_module_callback\n",
      "    self._make_module_from_path(filepath)\n",
      "  File \"/home/kostiskak/anaconda3/envs/ai_env/lib/python3.11/site-packages/threadpoolctl.py\", line 515, in _make_module_from_path\n",
      "    module = module_class(filepath, prefix, user_api, internal_api)\n",
      "             ^^^^^^^^^^^^^^^^^^^^^^^^^^^^^^^^^^^^^^^^^^^^^^^^^^^^^^\n",
      "  File \"/home/kostiskak/anaconda3/envs/ai_env/lib/python3.11/site-packages/threadpoolctl.py\", line 606, in __init__\n",
      "    self.version = self.get_version()\n",
      "                   ^^^^^^^^^^^^^^^^^^\n",
      "  File \"/home/kostiskak/anaconda3/envs/ai_env/lib/python3.11/site-packages/threadpoolctl.py\", line 646, in get_version\n",
      "    config = get_config().split()\n",
      "             ^^^^^^^^^^^^^^^^^^\n",
      "AttributeError: 'NoneType' object has no attribute 'split'\n"
     ]
    },
    {
     "name": "stdout",
     "output_type": "stream",
     "text": [
      "GaussianNB()\n",
      "accuracy:\n",
      "0.663936118950919\n",
      "classification report\n",
      ":              precision    recall  f1-score   support\n",
      "\n",
      "         0.0       0.89      0.65      0.75     11184\n",
      "         1.0       0.38      0.72      0.50      3343\n",
      "\n",
      "    accuracy                           0.66     14527\n",
      "   macro avg       0.63      0.68      0.62     14527\n",
      "weighted avg       0.77      0.66      0.69     14527\n",
      "\n",
      "KNeighborsClassifier()\n",
      "accuracy:\n",
      "0.74702278515867\n",
      "classification report\n",
      ":              precision    recall  f1-score   support\n",
      "\n",
      "         0.0       0.94      0.72      0.81     11184\n",
      "         1.0       0.47      0.85      0.61      3343\n",
      "\n",
      "    accuracy                           0.75     14527\n",
      "   macro avg       0.71      0.78      0.71     14527\n",
      "weighted avg       0.83      0.75      0.77     14527\n",
      "\n",
      "LogisticRegression(max_iter=1000)\n",
      "accuracy:\n",
      "0.8148275624698836\n",
      "classification report\n",
      ":              precision    recall  f1-score   support\n",
      "\n",
      "         0.0       0.93      0.82      0.87     11184\n",
      "         1.0       0.57      0.80      0.67      3343\n",
      "\n",
      "    accuracy                           0.81     14527\n",
      "   macro avg       0.75      0.81      0.77     14527\n",
      "weighted avg       0.85      0.81      0.82     14527\n",
      "\n",
      "MLPClassifier(max_iter=500, random_state=42)\n",
      "accuracy:\n",
      "0.8388517932126386\n",
      "classification report\n",
      ":              precision    recall  f1-score   support\n",
      "\n",
      "         0.0       0.90      0.88      0.89     11184\n",
      "         1.0       0.64      0.69      0.66      3343\n",
      "\n",
      "    accuracy                           0.84     14527\n",
      "   macro avg       0.77      0.79      0.78     14527\n",
      "weighted avg       0.84      0.84      0.84     14527\n",
      "\n",
      "SVC()\n",
      "accuracy:\n",
      "0.8125559303366146\n",
      "classification report\n",
      ":              precision    recall  f1-score   support\n",
      "\n",
      "         0.0       0.94      0.81      0.87     11184\n",
      "         1.0       0.56      0.82      0.67      3343\n",
      "\n",
      "    accuracy                           0.81     14527\n",
      "   macro avg       0.75      0.81      0.77     14527\n",
      "weighted avg       0.85      0.81      0.82     14527\n",
      "\n",
      "DecisionTreeClassifier(random_state=42)\n",
      "accuracy:\n",
      "0.8157224478557169\n",
      "classification report\n",
      ":              precision    recall  f1-score   support\n",
      "\n",
      "         0.0       0.89      0.87      0.88     11184\n",
      "         1.0       0.59      0.65      0.62      3343\n",
      "\n",
      "    accuracy                           0.82     14527\n",
      "   macro avg       0.74      0.76      0.75     14527\n",
      "weighted avg       0.82      0.82      0.82     14527\n",
      "\n",
      "RandomForestClassifier(random_state=42)\n",
      "accuracy:\n",
      "0.8710676671026365\n",
      "classification report\n",
      ":              precision    recall  f1-score   support\n",
      "\n",
      "         0.0       0.92      0.92      0.92     11184\n",
      "         1.0       0.72      0.72      0.72      3343\n",
      "\n",
      "    accuracy                           0.87     14527\n",
      "   macro avg       0.82      0.82      0.82     14527\n",
      "weighted avg       0.87      0.87      0.87     14527\n"
     ]
    }
   ],
   "source": [
    "from sklearn.naive_bayes import GaussianNB\n",
    "from sklearn.neighbors import KNeighborsClassifier\n",
    "from sklearn.linear_model import LogisticRegression\n",
    "from sklearn.neural_network import MLPClassifier\n",
    "from sklearn.svm import SVC\n",
    "from sklearn.tree import DecisionTreeClassifier\n",
    "from sklearn.ensemble import RandomForestClassifier\n",
    "\n",
    "gnb = Model(GaussianNB(), instant_fit_eval=True)\n",
    "knn = Model(KNeighborsClassifier(), instant_fit_eval=True)\n",
    "reg = Model(LogisticRegression(max_iter=1000), instant_fit_eval=True)\n",
    "mlp = Model(MLPClassifier(hidden_layer_sizes=(100,), max_iter=500, random_state=42), instant_fit_eval=True)\n",
    "svc = Model(SVC(), instant_fit_eval=True)\n",
    "tree = Model(DecisionTreeClassifier(random_state=42), instant_fit_eval=True)\n",
    "r_forest = Model(RandomForestClassifier(random_state=42), instant_fit_eval=True)"
   ],
   "metadata": {
    "collapsed": false,
    "ExecuteTime": {
     "end_time": "2023-11-21T20:17:51.170326197Z",
     "start_time": "2023-11-21T20:11:49.243118889Z"
    }
   }
  },
  {
   "cell_type": "markdown",
   "source": [
    "4.δ.  Αξιολογήστε συνολικά την επίδοση των μοντέλων χρησιμοποιώντας κάποιο γράφημα (π.χ. ιστόγραμμα, bar plot) και σχολιάστε ποιο μοντέλο είχε την καλύτερη επίδοση.\n"
   ],
   "metadata": {
    "id": "F1SXqT2vWZTh"
   }
  },
  {
   "cell_type": "code",
   "source": [
    "from numpy import argmax\n",
    "import re\n",
    "\n",
    "model_list = [gnb, knn, reg, mlp, svc, tree, r_forest]\n",
    "model_names = [str(m)[:12] for m in model_list]\n",
    "model_accuracy_list = [m.accuracy for m in model_list]\n",
    "get_f1 = lambda report: float(re.search('macro avg\\s+\\d+.\\d+\\s+\\d+.\\d+\\s+(\\d+.\\d+)', report).group(1))\n",
    "model_f1_list = [get_f1(m.classification_report) for m in model_list]\n",
    "\n",
    "print(f'The most accurate model is: {str(model_list[argmax(model_accuracy_list)])}')\n",
    "print(f'The highest F1-score model is: {str(model_list[argmax(model_f1_list)])}')\n",
    "\n",
    "# Set up the matplotlib figure with two subplots, one for accuracy and one for F1 score, using the alternative subplot notation\n",
    "\n",
    "# Plot for accuracy scores\n",
    "plt.subplot(121)  # 1 row, 2 columns, 1st subplot\n",
    "plt.bar(model_names, model_accuracy_list)\n",
    "plt.title('Comparison of Model Accuracies')\n",
    "plt.xlabel('Models')\n",
    "plt.ylabel('Accuracy')\n",
    "plt.ylim([0.6, 0.9])  # Set y-axis to start from 0.7 to better highlight differences\n",
    "plt.xticks(rotation='vertical')\n",
    "# Display values on the bars for accuracy\n",
    "for i, v in enumerate(model_accuracy_list):\n",
    "    plt.text(i, v + 0.01, f\"{v:.2f}\", ha='center', color='black')\n",
    "\n",
    "# Plot for F1 scores\n",
    "plt.subplot(122)  # 1 row, 2 columns, 2nd subplot\n",
    "plt.bar(model_names, model_f1_list)\n",
    "plt.title('Comparison of Model F1 Scores')\n",
    "plt.xlabel('Models')\n",
    "plt.ylabel('F1 Score')\n",
    "plt.ylim([0.6, 0.9])  # Set y-axis to start from 0.6 to better highlight differences\n",
    "plt.xticks(rotation='vertical')\n",
    "# Display values on the bars for F1 scores\n",
    "for i, v in enumerate(model_f1_list):\n",
    "    plt.text(i, v + 0.01, f\"{v:.2f}\", ha='center', color='black')\n",
    "\n",
    "# Adjust layout to prevent clipping of tick-labels\n",
    "plt.tight_layout()\n",
    "# Show the plot\n",
    "plt.show()\n"
   ],
   "metadata": {
    "id": "UOiOlTcJjISQ",
    "ExecuteTime": {
     "end_time": "2023-11-21T20:17:59.704517101Z",
     "start_time": "2023-11-21T20:17:59.353618234Z"
    }
   },
   "execution_count": 69,
   "outputs": [
    {
     "name": "stdout",
     "output_type": "stream",
     "text": [
      "The most accurate model is: RandomForestClassifier(random_state=42)\n",
      "The highest F1-score model is: RandomForestClassifier(random_state=42)\n"
     ]
    },
    {
     "data": {
      "text/plain": "<Figure size 640x480 with 2 Axes>",
      "image/png": "[encoded data removed]"
     },
     "metadata": {},
     "output_type": "display_data"
    }
   ]
  },
  {
   "cell_type": "markdown",
   "source": [
    "### 5. Προετοιμασία αρχείου για την πρώτη υποβολή στο kaggle"
   ],
   "metadata": {
    "id": "f1ZWds7ekAsL"
   }
  },
  {
   "cell_type": "markdown",
   "source": [
    "5.α. Χρησιμοποιήστε **ΜΟΝΟ** το μοντέλο σας με την καλύτερη επίδοση για να κάνετε προβλέψεις, χρησιμοποιώντας το σύνολο εκπαίδευσης [test set](https://drive.google.com/file/d/18PMqdPSuJ4CurrzYlahooNMJWZ_8n11o/view?usp=sharing).\n"
   ],
   "metadata": {
    "id": "atEnldNpkSTG"
   }
  },
  {
   "cell_type": "code",
   "source": [
    "# first impute in test_data then predict\n",
    "if 'Unnamed: 0' in test_data.columns:\n",
    "    test_data.drop('Unnamed: 0', axis=1, inplace=True)\n",
    "if 'Unnamed: 0.1' in test_data.columns:\n",
    "    test_data.drop('Unnamed: 0.1', axis=1, inplace=True)\n",
    "\n",
    "\n",
    "# Fill missing values for numerical features with the median\n",
    "for column in test_data.select_dtypes(include=np.number).columns:\n",
    "    median_value = test_data[column].median()\n",
    "    test_data[column].fillna(median_value, inplace=True)\n",
    "\n",
    "# Fill missing values for categorical features with the mode\n",
    "for column in test_data.select_dtypes(include=['object', 'bool']).columns:\n",
    "    mode_value = test_data[column].mode()[0]\n",
    "    test_data[column].fillna(mode_value, inplace=True)\n",
    "\n",
    "y_test_pred = r_forest.model.predict(test_data)\n",
    "y_test_pred.shape"
   ],
   "metadata": {
    "id": "UM0B638pkBLC",
    "ExecuteTime": {
     "end_time": "2023-11-21T22:46:49.812882787Z",
     "start_time": "2023-11-21T22:46:49.606936592Z"
    }
   },
   "execution_count": 100,
   "outputs": [
    {
     "data": {
      "text/plain": "(9699,)"
     },
     "execution_count": 100,
     "metadata": {},
     "output_type": "execute_result"
    }
   ]
  },
  {
   "cell_type": "markdown",
   "source": [
    "5.β. Αποθηκεύστε τις προβλέψεις από το καλύτερο μοντέλο σας σε ένα csv αρχείο. To csv αρχείο θα πρέπει να είναι περιέχει 2 στήλες: η πρώτη στήλη να περιέχει την στήλη id του test set file και η δεύτερη στήλη τις αντίστοιχες προβλέψεις που έκανε το καλύτερα εκπαιδευμένο μοντέλο σας (βήμα 5α)."
   ],
   "metadata": {
    "id": "_WwjA-3kjFRj"
   }
  },
  {
   "cell_type": "code",
   "source": [
    "prediction_df = pd.DataFrame({'RainTomorrow': y_test_pred})\n",
    "prediction_df.to_csv('part1v2_predictions.csv', index=True, index_label='id')"
   ],
   "metadata": {
    "id": "Z6SPFOpZjF5l",
    "ExecuteTime": {
     "end_time": "2023-11-21T22:47:21.098522558Z",
     "start_time": "2023-11-21T22:47:20.988280694Z"
    }
   },
   "execution_count": 101,
   "outputs": []
  },
  {
   "cell_type": "markdown",
   "source": [
    "### 6. Βελτιστοποίηση μοντέλων με εύρεση καλύτερων υπερπαραμέτρων των ταξινομητών\n",
    "\n",
    "6.α. Για τους 7 ταξινομητές βελτιστοποιήστε την επίδοσή τους χρησιμοποιώντας αναζήτηση πλέγματος με διασταυρούμενη επικύρωση (k-fold 5)  με σκοπό την εύρεση των βέλτιστων υπερπαραμέτρων."
   ],
   "metadata": {
    "id": "j6OoLlxrYILN"
   }
  },
  {
   "cell_type": "code",
   "source": [
    "from sklearn.model_selection import GridSearchCV\n",
    "from tqdm.notebook import tqdm\n",
    "\n",
    "# Load the dataset\n",
    "final_train_df = pd.read_csv('content/data/final_train.csv')\n",
    "X = final_train_df.iloc[:, :-1]  # all columns except the last one as features\n",
    "y = final_train_df.iloc[:, -1]  # the last column as the label\n",
    "\n",
    "# Define the hyperparameter grid for each classifier\n",
    "param_grids = {\n",
    "    'SVM': {\n",
    "        'model': SVC(random_state=42),\n",
    "        'params': {\n",
    "            'C': [0.1, 1, 10, 100],\n",
    "            'kernel': ['linear', 'rbf'],\n",
    "            'gamma': ['scale', 'auto']\n",
    "        }\n",
    "    },\n",
    "    'KNN': {\n",
    "        'model': KNeighborsClassifier(),\n",
    "        'params': {\n",
    "            'n_neighbors': [3, 5, 7, 9],\n",
    "            'weights': ['uniform', 'distance'],\n",
    "            'metric': ['euclidean', 'manhattan']\n",
    "        }\n",
    "    },\n",
    "    'LogisticRegression': {\n",
    "        'model': LogisticRegression(random_state=42),\n",
    "        'params': {\n",
    "            'C': [0.1, 1, 10, 100],\n",
    "            'penalty': ['l1', 'l2'],\n",
    "            'solver': ['liblinear']\n",
    "        }\n",
    "    },\n",
    "    'MLP': {\n",
    "        'model': MLPClassifier(random_state=42),\n",
    "        'params': {\n",
    "            'hidden_layer_sizes': [(50,), (100,), (50, 50)],\n",
    "            'activation': ['tanh', 'relu'],\n",
    "            'max_iter': [300, 500, 700]\n",
    "        }\n",
    "    },\n",
    "    'DecisionTree': {\n",
    "        'model': DecisionTreeClassifier(random_state=42),\n",
    "        'params': {\n",
    "            'max_depth': [None, 10, 20, 30],\n",
    "            'min_samples_split': [2, 5, 10],\n",
    "            'min_samples_leaf': [1, 2, 4]\n",
    "        }\n",
    "    },\n",
    "    'RandomForest': {\n",
    "        'model': RandomForestClassifier(random_state=42),\n",
    "        'params': {\n",
    "            'n_estimators': [100, 200],\n",
    "            'max_features': ['auto', 'sqrt'],\n",
    "            'max_depth': [None, 10, 20, 30],\n",
    "            'min_samples_split': [2, 5, 10],\n",
    "            'min_samples_leaf': [1, 2, 4]\n",
    "        }\n",
    "    }\n",
    "}\n",
    "\n",
    "# Initialize dictionary to store the best models and their scores\n",
    "best_models = {}\n",
    "best_scores = {}\n",
    "\n",
    "# Perform grid search for each classifier\n",
    "for classifier_name in tqdm(param_grids.keys(), desc='Optimizing classifiers', unit='classifier'):\n",
    "    grid_data = param_grids[classifier_name]\n",
    "    print(f\"Starting grid search for {classifier_name}...\")\n",
    "    grid_search = GridSearchCV(grid_data['model'], grid_data['params'], cv=5, scoring='f1', n_jobs=-1)\n",
    "    grid_search.fit(X, y)\n",
    "    best_models[classifier_name] = grid_search.best_estimator_\n",
    "    best_scores[classifier_name] = grid_search.best_score_\n",
    "    print(f\"Best F1 score for {classifier_name}: {grid_search.best_score_}\")\n",
    "    print(f\"Best parameters for {classifier_name}: {grid_search.best_params_}\")\n",
    "\n",
    "# Print the best models and their F1 scores\n",
    "print(\"Best models and their F1 scores:\")\n",
    "for classifier_name, score in best_scores.items():\n",
    "    print(f\"{classifier_name}: {score}\")\n",
    "\n"
   ],
   "metadata": {
    "id": "FK_zetZLlOeV",
    "ExecuteTime": {
     "end_time": "2023-11-21T21:40:50.157052797Z",
     "start_time": "2023-11-21T20:18:52.726861827Z"
    }
   },
   "execution_count": 74,
   "outputs": [
    {
     "data": {
      "text/plain": "Optimizing classifiers:   0%|          | 0/6 [00:00<?, ?classifier/s]",
      "application/vnd.jupyter.widget-view+json": {
       "version_major": 2,
       "version_minor": 0,
       "model_id": "9e786746203946d7a4a41b0b1908d7f9"
      }
     },
     "metadata": {},
     "output_type": "display_data"
    },
    {
     "name": "stdout",
     "output_type": "stream",
     "text": [
      "Starting grid search for SVM...\n"
     ]
    },
    {
     "name": "stderr",
     "output_type": "stream",
     "text": [
      "/home/kostiskak/anaconda3/envs/ai_env/lib/python3.11/site-packages/joblib/externals/loky/process_executor.py:700: UserWarning: A worker stopped while some jobs were given to the executor. This can be caused by a too short worker timeout or by a memory leak.\n",
      "  warnings.warn(\n"
     ]
    },
    {
     "ename": "KeyboardInterrupt",
     "evalue": "",
     "output_type": "error",
     "traceback": [
      "\u001B[0;31m---------------------------------------------------------------------------\u001B[0m",
      "\u001B[0;31mKeyboardInterrupt\u001B[0m                         Traceback (most recent call last)",
      "File \u001B[0;32m~/anaconda3/envs/ai_env/lib/python3.11/site-packages/joblib/parallel.py:975\u001B[0m, in \u001B[0;36mParallel.retrieve\u001B[0;34m(self)\u001B[0m\n\u001B[1;32m    974\u001B[0m \u001B[38;5;28;01mif\u001B[39;00m \u001B[38;5;28mgetattr\u001B[39m(\u001B[38;5;28mself\u001B[39m\u001B[38;5;241m.\u001B[39m_backend, \u001B[38;5;124m'\u001B[39m\u001B[38;5;124msupports_timeout\u001B[39m\u001B[38;5;124m'\u001B[39m, \u001B[38;5;28;01mFalse\u001B[39;00m):\n\u001B[0;32m--> 975\u001B[0m     \u001B[38;5;28mself\u001B[39m\u001B[38;5;241m.\u001B[39m_output\u001B[38;5;241m.\u001B[39mextend(job\u001B[38;5;241m.\u001B[39mget(timeout\u001B[38;5;241m=\u001B[39m\u001B[38;5;28mself\u001B[39m\u001B[38;5;241m.\u001B[39mtimeout))\n\u001B[1;32m    976\u001B[0m \u001B[38;5;28;01melse\u001B[39;00m:\n",
      "File \u001B[0;32m~/anaconda3/envs/ai_env/lib/python3.11/site-packages/joblib/_parallel_backends.py:567\u001B[0m, in \u001B[0;36mLokyBackend.wrap_future_result\u001B[0;34m(future, timeout)\u001B[0m\n\u001B[1;32m    566\u001B[0m \u001B[38;5;28;01mtry\u001B[39;00m:\n\u001B[0;32m--> 567\u001B[0m     \u001B[38;5;28;01mreturn\u001B[39;00m future\u001B[38;5;241m.\u001B[39mresult(timeout\u001B[38;5;241m=\u001B[39mtimeout)\n\u001B[1;32m    568\u001B[0m \u001B[38;5;28;01mexcept\u001B[39;00m CfTimeoutError \u001B[38;5;28;01mas\u001B[39;00m e:\n",
      "File \u001B[0;32m~/anaconda3/envs/ai_env/lib/python3.11/concurrent/futures/_base.py:451\u001B[0m, in \u001B[0;36mFuture.result\u001B[0;34m(self, timeout)\u001B[0m\n\u001B[1;32m    449\u001B[0m     \u001B[38;5;28;01mreturn\u001B[39;00m \u001B[38;5;28mself\u001B[39m\u001B[38;5;241m.\u001B[39m__get_result()\n\u001B[0;32m--> 451\u001B[0m \u001B[38;5;28mself\u001B[39m\u001B[38;5;241m.\u001B[39m_condition\u001B[38;5;241m.\u001B[39mwait(timeout)\n\u001B[1;32m    453\u001B[0m \u001B[38;5;28;01mif\u001B[39;00m \u001B[38;5;28mself\u001B[39m\u001B[38;5;241m.\u001B[39m_state \u001B[38;5;129;01min\u001B[39;00m [CANCELLED, CANCELLED_AND_NOTIFIED]:\n",
      "File \u001B[0;32m~/anaconda3/envs/ai_env/lib/python3.11/threading.py:320\u001B[0m, in \u001B[0;36mCondition.wait\u001B[0;34m(self, timeout)\u001B[0m\n\u001B[1;32m    319\u001B[0m \u001B[38;5;28;01mif\u001B[39;00m timeout \u001B[38;5;129;01mis\u001B[39;00m \u001B[38;5;28;01mNone\u001B[39;00m:\n\u001B[0;32m--> 320\u001B[0m     waiter\u001B[38;5;241m.\u001B[39macquire()\n\u001B[1;32m    321\u001B[0m     gotit \u001B[38;5;241m=\u001B[39m \u001B[38;5;28;01mTrue\u001B[39;00m\n",
      "\u001B[0;31mKeyboardInterrupt\u001B[0m: ",
      "\nDuring handling of the above exception, another exception occurred:\n",
      "\u001B[0;31mKeyboardInterrupt\u001B[0m                         Traceback (most recent call last)",
      "File \u001B[0;32m~/anaconda3/envs/ai_env/lib/python3.11/site-packages/sklearn/model_selection/_search.py:874\u001B[0m, in \u001B[0;36mBaseSearchCV.fit\u001B[0;34m(self, X, y, groups, **fit_params)\u001B[0m\n\u001B[1;32m    872\u001B[0m     \u001B[38;5;28;01mreturn\u001B[39;00m results\n\u001B[0;32m--> 874\u001B[0m \u001B[38;5;28mself\u001B[39m\u001B[38;5;241m.\u001B[39m_run_search(evaluate_candidates)\n\u001B[1;32m    876\u001B[0m \u001B[38;5;66;03m# multimetric is determined here because in the case of a callable\u001B[39;00m\n\u001B[1;32m    877\u001B[0m \u001B[38;5;66;03m# self.scoring the return type is only known after calling\u001B[39;00m\n",
      "File \u001B[0;32m~/anaconda3/envs/ai_env/lib/python3.11/site-packages/sklearn/model_selection/_search.py:1388\u001B[0m, in \u001B[0;36mGridSearchCV._run_search\u001B[0;34m(self, evaluate_candidates)\u001B[0m\n\u001B[1;32m   1387\u001B[0m \u001B[38;5;250m\u001B[39m\u001B[38;5;124;03m\"\"\"Search all candidates in param_grid\"\"\"\u001B[39;00m\n\u001B[0;32m-> 1388\u001B[0m evaluate_candidates(ParameterGrid(\u001B[38;5;28mself\u001B[39m\u001B[38;5;241m.\u001B[39mparam_grid))\n",
      "File \u001B[0;32m~/anaconda3/envs/ai_env/lib/python3.11/site-packages/sklearn/model_selection/_search.py:821\u001B[0m, in \u001B[0;36mBaseSearchCV.fit.<locals>.evaluate_candidates\u001B[0;34m(candidate_params, cv, more_results)\u001B[0m\n\u001B[1;32m    814\u001B[0m     \u001B[38;5;28mprint\u001B[39m(\n\u001B[1;32m    815\u001B[0m         \u001B[38;5;124m\"\u001B[39m\u001B[38;5;124mFitting \u001B[39m\u001B[38;5;132;01m{0}\u001B[39;00m\u001B[38;5;124m folds for each of \u001B[39m\u001B[38;5;132;01m{1}\u001B[39;00m\u001B[38;5;124m candidates,\u001B[39m\u001B[38;5;124m\"\u001B[39m\n\u001B[1;32m    816\u001B[0m         \u001B[38;5;124m\"\u001B[39m\u001B[38;5;124m totalling \u001B[39m\u001B[38;5;132;01m{2}\u001B[39;00m\u001B[38;5;124m fits\u001B[39m\u001B[38;5;124m\"\u001B[39m\u001B[38;5;241m.\u001B[39mformat(\n\u001B[1;32m    817\u001B[0m             n_splits, n_candidates, n_candidates \u001B[38;5;241m*\u001B[39m n_splits\n\u001B[1;32m    818\u001B[0m         )\n\u001B[1;32m    819\u001B[0m     )\n\u001B[0;32m--> 821\u001B[0m out \u001B[38;5;241m=\u001B[39m parallel(\n\u001B[1;32m    822\u001B[0m     delayed(_fit_and_score)(\n\u001B[1;32m    823\u001B[0m         clone(base_estimator),\n\u001B[1;32m    824\u001B[0m         X,\n\u001B[1;32m    825\u001B[0m         y,\n\u001B[1;32m    826\u001B[0m         train\u001B[38;5;241m=\u001B[39mtrain,\n\u001B[1;32m    827\u001B[0m         test\u001B[38;5;241m=\u001B[39mtest,\n\u001B[1;32m    828\u001B[0m         parameters\u001B[38;5;241m=\u001B[39mparameters,\n\u001B[1;32m    829\u001B[0m         split_progress\u001B[38;5;241m=\u001B[39m(split_idx, n_splits),\n\u001B[1;32m    830\u001B[0m         candidate_progress\u001B[38;5;241m=\u001B[39m(cand_idx, n_candidates),\n\u001B[1;32m    831\u001B[0m         \u001B[38;5;241m*\u001B[39m\u001B[38;5;241m*\u001B[39mfit_and_score_kwargs,\n\u001B[1;32m    832\u001B[0m     )\n\u001B[1;32m    833\u001B[0m     \u001B[38;5;28;01mfor\u001B[39;00m (cand_idx, parameters), (split_idx, (train, test)) \u001B[38;5;129;01min\u001B[39;00m product(\n\u001B[1;32m    834\u001B[0m         \u001B[38;5;28menumerate\u001B[39m(candidate_params), \u001B[38;5;28menumerate\u001B[39m(cv\u001B[38;5;241m.\u001B[39msplit(X, y, groups))\n\u001B[1;32m    835\u001B[0m     )\n\u001B[1;32m    836\u001B[0m )\n\u001B[1;32m    838\u001B[0m \u001B[38;5;28;01mif\u001B[39;00m \u001B[38;5;28mlen\u001B[39m(out) \u001B[38;5;241m<\u001B[39m \u001B[38;5;241m1\u001B[39m:\n",
      "File \u001B[0;32m~/anaconda3/envs/ai_env/lib/python3.11/site-packages/sklearn/utils/parallel.py:63\u001B[0m, in \u001B[0;36mParallel.__call__\u001B[0;34m(self, iterable)\u001B[0m\n\u001B[1;32m     59\u001B[0m iterable_with_config \u001B[38;5;241m=\u001B[39m (\n\u001B[1;32m     60\u001B[0m     (_with_config(delayed_func, config), args, kwargs)\n\u001B[1;32m     61\u001B[0m     \u001B[38;5;28;01mfor\u001B[39;00m delayed_func, args, kwargs \u001B[38;5;129;01min\u001B[39;00m iterable\n\u001B[1;32m     62\u001B[0m )\n\u001B[0;32m---> 63\u001B[0m \u001B[38;5;28;01mreturn\u001B[39;00m \u001B[38;5;28msuper\u001B[39m()\u001B[38;5;241m.\u001B[39m\u001B[38;5;21m__call__\u001B[39m(iterable_with_config)\n",
      "File \u001B[0;32m~/anaconda3/envs/ai_env/lib/python3.11/site-packages/joblib/parallel.py:1098\u001B[0m, in \u001B[0;36mParallel.__call__\u001B[0;34m(self, iterable)\u001B[0m\n\u001B[1;32m   1097\u001B[0m \u001B[38;5;28;01mwith\u001B[39;00m \u001B[38;5;28mself\u001B[39m\u001B[38;5;241m.\u001B[39m_backend\u001B[38;5;241m.\u001B[39mretrieval_context():\n\u001B[0;32m-> 1098\u001B[0m     \u001B[38;5;28mself\u001B[39m\u001B[38;5;241m.\u001B[39mretrieve()\n\u001B[1;32m   1099\u001B[0m \u001B[38;5;66;03m# Make sure that we get a last message telling us we are done\u001B[39;00m\n",
      "File \u001B[0;32m~/anaconda3/envs/ai_env/lib/python3.11/site-packages/joblib/parallel.py:997\u001B[0m, in \u001B[0;36mParallel.retrieve\u001B[0;34m(self)\u001B[0m\n\u001B[1;32m    996\u001B[0m     ensure_ready \u001B[38;5;241m=\u001B[39m \u001B[38;5;28mself\u001B[39m\u001B[38;5;241m.\u001B[39m_managed_backend\n\u001B[0;32m--> 997\u001B[0m     backend\u001B[38;5;241m.\u001B[39mabort_everything(ensure_ready\u001B[38;5;241m=\u001B[39mensure_ready)\n\u001B[1;32m    998\u001B[0m \u001B[38;5;28;01mraise\u001B[39;00m\n",
      "File \u001B[0;32m~/anaconda3/envs/ai_env/lib/python3.11/site-packages/joblib/_parallel_backends.py:586\u001B[0m, in \u001B[0;36mLokyBackend.abort_everything\u001B[0;34m(self, ensure_ready)\u001B[0m\n\u001B[1;32m    584\u001B[0m \u001B[38;5;250m\u001B[39m\u001B[38;5;124;03m\"\"\"Shutdown the workers and restart a new one with the same parameters\u001B[39;00m\n\u001B[1;32m    585\u001B[0m \u001B[38;5;124;03m\"\"\"\u001B[39;00m\n\u001B[0;32m--> 586\u001B[0m \u001B[38;5;28mself\u001B[39m\u001B[38;5;241m.\u001B[39m_workers\u001B[38;5;241m.\u001B[39mterminate(kill_workers\u001B[38;5;241m=\u001B[39m\u001B[38;5;28;01mTrue\u001B[39;00m)\n\u001B[1;32m    587\u001B[0m \u001B[38;5;28mself\u001B[39m\u001B[38;5;241m.\u001B[39m_workers \u001B[38;5;241m=\u001B[39m \u001B[38;5;28;01mNone\u001B[39;00m\n",
      "File \u001B[0;32m~/anaconda3/envs/ai_env/lib/python3.11/site-packages/joblib/executor.py:74\u001B[0m, in \u001B[0;36mMemmappingExecutor.terminate\u001B[0;34m(self, kill_workers)\u001B[0m\n\u001B[1;32m     73\u001B[0m \u001B[38;5;28;01mdef\u001B[39;00m \u001B[38;5;21mterminate\u001B[39m(\u001B[38;5;28mself\u001B[39m, kill_workers\u001B[38;5;241m=\u001B[39m\u001B[38;5;28;01mFalse\u001B[39;00m):\n\u001B[0;32m---> 74\u001B[0m     \u001B[38;5;28mself\u001B[39m\u001B[38;5;241m.\u001B[39mshutdown(kill_workers\u001B[38;5;241m=\u001B[39mkill_workers)\n\u001B[1;32m     75\u001B[0m     \u001B[38;5;28;01mif\u001B[39;00m kill_workers:\n\u001B[1;32m     76\u001B[0m         \u001B[38;5;66;03m# When workers are killed in such a brutal manner, they cannot\u001B[39;00m\n\u001B[1;32m     77\u001B[0m         \u001B[38;5;66;03m# execute the finalizer of their shared memmaps. The refcount of\u001B[39;00m\n\u001B[0;32m   (...)\u001B[0m\n\u001B[1;32m     83\u001B[0m \n\u001B[1;32m     84\u001B[0m         \u001B[38;5;66;03m# unregister temporary resources from all contexts\u001B[39;00m\n",
      "File \u001B[0;32m~/anaconda3/envs/ai_env/lib/python3.11/site-packages/joblib/externals/loky/process_executor.py:1199\u001B[0m, in \u001B[0;36mProcessPoolExecutor.shutdown\u001B[0;34m(self, wait, kill_workers)\u001B[0m\n\u001B[1;32m   1198\u001B[0m \u001B[38;5;28;01mif\u001B[39;00m executor_manager_thread \u001B[38;5;129;01mis\u001B[39;00m \u001B[38;5;129;01mnot\u001B[39;00m \u001B[38;5;28;01mNone\u001B[39;00m \u001B[38;5;129;01mand\u001B[39;00m wait:\n\u001B[0;32m-> 1199\u001B[0m     executor_manager_thread\u001B[38;5;241m.\u001B[39mjoin()\n\u001B[1;32m   1201\u001B[0m \u001B[38;5;66;03m# To reduce the risk of opening too many files, remove references to\u001B[39;00m\n\u001B[1;32m   1202\u001B[0m \u001B[38;5;66;03m# objects that use file descriptors.\u001B[39;00m\n",
      "File \u001B[0;32m~/anaconda3/envs/ai_env/lib/python3.11/threading.py:1112\u001B[0m, in \u001B[0;36mThread.join\u001B[0;34m(self, timeout)\u001B[0m\n\u001B[1;32m   1111\u001B[0m \u001B[38;5;28;01mif\u001B[39;00m timeout \u001B[38;5;129;01mis\u001B[39;00m \u001B[38;5;28;01mNone\u001B[39;00m:\n\u001B[0;32m-> 1112\u001B[0m     \u001B[38;5;28mself\u001B[39m\u001B[38;5;241m.\u001B[39m_wait_for_tstate_lock()\n\u001B[1;32m   1113\u001B[0m \u001B[38;5;28;01melse\u001B[39;00m:\n\u001B[1;32m   1114\u001B[0m     \u001B[38;5;66;03m# the behavior of a negative timeout isn't documented, but\u001B[39;00m\n\u001B[1;32m   1115\u001B[0m     \u001B[38;5;66;03m# historically .join(timeout=x) for x<0 has acted as if timeout=0\u001B[39;00m\n",
      "File \u001B[0;32m~/anaconda3/envs/ai_env/lib/python3.11/threading.py:1132\u001B[0m, in \u001B[0;36mThread._wait_for_tstate_lock\u001B[0;34m(self, block, timeout)\u001B[0m\n\u001B[1;32m   1131\u001B[0m \u001B[38;5;28;01mtry\u001B[39;00m:\n\u001B[0;32m-> 1132\u001B[0m     \u001B[38;5;28;01mif\u001B[39;00m lock\u001B[38;5;241m.\u001B[39macquire(block, timeout):\n\u001B[1;32m   1133\u001B[0m         lock\u001B[38;5;241m.\u001B[39mrelease()\n",
      "\u001B[0;31mKeyboardInterrupt\u001B[0m: ",
      "\nDuring handling of the above exception, another exception occurred:\n",
      "\u001B[0;31mKeyboardInterrupt\u001B[0m                         Traceback (most recent call last)",
      "Cell \u001B[0;32mIn[74], line 72\u001B[0m\n\u001B[1;32m     70\u001B[0m \u001B[38;5;28mprint\u001B[39m(\u001B[38;5;124mf\u001B[39m\u001B[38;5;124m\"\u001B[39m\u001B[38;5;124mStarting grid search for \u001B[39m\u001B[38;5;132;01m{\u001B[39;00mclassifier_name\u001B[38;5;132;01m}\u001B[39;00m\u001B[38;5;124m...\u001B[39m\u001B[38;5;124m\"\u001B[39m)\n\u001B[1;32m     71\u001B[0m grid_search \u001B[38;5;241m=\u001B[39m GridSearchCV(grid_data[\u001B[38;5;124m'\u001B[39m\u001B[38;5;124mmodel\u001B[39m\u001B[38;5;124m'\u001B[39m], grid_data[\u001B[38;5;124m'\u001B[39m\u001B[38;5;124mparams\u001B[39m\u001B[38;5;124m'\u001B[39m], cv\u001B[38;5;241m=\u001B[39m\u001B[38;5;241m5\u001B[39m, scoring\u001B[38;5;241m=\u001B[39m\u001B[38;5;124m'\u001B[39m\u001B[38;5;124mf1\u001B[39m\u001B[38;5;124m'\u001B[39m, n_jobs\u001B[38;5;241m=\u001B[39m\u001B[38;5;241m-\u001B[39m\u001B[38;5;241m1\u001B[39m)\n\u001B[0;32m---> 72\u001B[0m grid_search\u001B[38;5;241m.\u001B[39mfit(X, y)\n\u001B[1;32m     73\u001B[0m best_models[classifier_name] \u001B[38;5;241m=\u001B[39m grid_search\u001B[38;5;241m.\u001B[39mbest_estimator_\n\u001B[1;32m     74\u001B[0m best_scores[classifier_name] \u001B[38;5;241m=\u001B[39m grid_search\u001B[38;5;241m.\u001B[39mbest_score_\n",
      "File \u001B[0;32m~/anaconda3/envs/ai_env/lib/python3.11/site-packages/sklearn/model_selection/_search.py:803\u001B[0m, in \u001B[0;36mBaseSearchCV.fit\u001B[0;34m(self, X, y, groups, **fit_params)\u001B[0m\n\u001B[1;32m    792\u001B[0m fit_and_score_kwargs \u001B[38;5;241m=\u001B[39m \u001B[38;5;28mdict\u001B[39m(\n\u001B[1;32m    793\u001B[0m     scorer\u001B[38;5;241m=\u001B[39mscorers,\n\u001B[1;32m    794\u001B[0m     fit_params\u001B[38;5;241m=\u001B[39mfit_params,\n\u001B[0;32m   (...)\u001B[0m\n\u001B[1;32m    800\u001B[0m     verbose\u001B[38;5;241m=\u001B[39m\u001B[38;5;28mself\u001B[39m\u001B[38;5;241m.\u001B[39mverbose,\n\u001B[1;32m    801\u001B[0m )\n\u001B[1;32m    802\u001B[0m results \u001B[38;5;241m=\u001B[39m {}\n\u001B[0;32m--> 803\u001B[0m \u001B[38;5;28;01mwith\u001B[39;00m parallel:\n\u001B[1;32m    804\u001B[0m     all_candidate_params \u001B[38;5;241m=\u001B[39m []\n\u001B[1;32m    805\u001B[0m     all_out \u001B[38;5;241m=\u001B[39m []\n",
      "File \u001B[0;32m~/anaconda3/envs/ai_env/lib/python3.11/site-packages/joblib/parallel.py:769\u001B[0m, in \u001B[0;36mParallel.__exit__\u001B[0;34m(self, exc_type, exc_value, traceback)\u001B[0m\n\u001B[1;32m    768\u001B[0m \u001B[38;5;28;01mdef\u001B[39;00m \u001B[38;5;21m__exit__\u001B[39m(\u001B[38;5;28mself\u001B[39m, exc_type, exc_value, traceback):\n\u001B[0;32m--> 769\u001B[0m     \u001B[38;5;28mself\u001B[39m\u001B[38;5;241m.\u001B[39m_terminate_backend()\n\u001B[1;32m    770\u001B[0m     \u001B[38;5;28mself\u001B[39m\u001B[38;5;241m.\u001B[39m_managed_backend \u001B[38;5;241m=\u001B[39m \u001B[38;5;28;01mFalse\u001B[39;00m\n",
      "File \u001B[0;32m~/anaconda3/envs/ai_env/lib/python3.11/site-packages/joblib/parallel.py:799\u001B[0m, in \u001B[0;36mParallel._terminate_backend\u001B[0;34m(self)\u001B[0m\n\u001B[1;32m    797\u001B[0m \u001B[38;5;28;01mdef\u001B[39;00m \u001B[38;5;21m_terminate_backend\u001B[39m(\u001B[38;5;28mself\u001B[39m):\n\u001B[1;32m    798\u001B[0m     \u001B[38;5;28;01mif\u001B[39;00m \u001B[38;5;28mself\u001B[39m\u001B[38;5;241m.\u001B[39m_backend \u001B[38;5;129;01mis\u001B[39;00m \u001B[38;5;129;01mnot\u001B[39;00m \u001B[38;5;28;01mNone\u001B[39;00m:\n\u001B[0;32m--> 799\u001B[0m         \u001B[38;5;28mself\u001B[39m\u001B[38;5;241m.\u001B[39m_backend\u001B[38;5;241m.\u001B[39mterminate()\n",
      "File \u001B[0;32m~/anaconda3/envs/ai_env/lib/python3.11/site-packages/joblib/_parallel_backends.py:576\u001B[0m, in \u001B[0;36mLokyBackend.terminate\u001B[0;34m(self)\u001B[0m\n\u001B[1;32m    571\u001B[0m \u001B[38;5;28;01mdef\u001B[39;00m \u001B[38;5;21mterminate\u001B[39m(\u001B[38;5;28mself\u001B[39m):\n\u001B[1;32m    572\u001B[0m     \u001B[38;5;28;01mif\u001B[39;00m \u001B[38;5;28mself\u001B[39m\u001B[38;5;241m.\u001B[39m_workers \u001B[38;5;129;01mis\u001B[39;00m \u001B[38;5;129;01mnot\u001B[39;00m \u001B[38;5;28;01mNone\u001B[39;00m:\n\u001B[1;32m    573\u001B[0m         \u001B[38;5;66;03m# Don't terminate the workers as we want to reuse them in later\u001B[39;00m\n\u001B[1;32m    574\u001B[0m         \u001B[38;5;66;03m# calls, but cleanup the temporary resources that the Parallel call\u001B[39;00m\n\u001B[1;32m    575\u001B[0m         \u001B[38;5;66;03m# created. This 'hack' requires a private, low-level operation.\u001B[39;00m\n\u001B[0;32m--> 576\u001B[0m         \u001B[38;5;28mself\u001B[39m\u001B[38;5;241m.\u001B[39m_workers\u001B[38;5;241m.\u001B[39m_temp_folder_manager\u001B[38;5;241m.\u001B[39m_unlink_temporary_resources(\n\u001B[1;32m    577\u001B[0m             context_id\u001B[38;5;241m=\u001B[39m\u001B[38;5;28mself\u001B[39m\u001B[38;5;241m.\u001B[39mparallel\u001B[38;5;241m.\u001B[39m_id\n\u001B[1;32m    578\u001B[0m         )\n\u001B[1;32m    579\u001B[0m         \u001B[38;5;28mself\u001B[39m\u001B[38;5;241m.\u001B[39m_workers \u001B[38;5;241m=\u001B[39m \u001B[38;5;28;01mNone\u001B[39;00m\n\u001B[1;32m    581\u001B[0m     \u001B[38;5;28mself\u001B[39m\u001B[38;5;241m.\u001B[39mreset_batch_stats()\n",
      "File \u001B[0;32m~/anaconda3/envs/ai_env/lib/python3.11/site-packages/joblib/_memmapping_reducer.py:631\u001B[0m, in \u001B[0;36mTemporaryResourcesManager._unlink_temporary_resources\u001B[0;34m(self, context_id)\u001B[0m\n\u001B[1;32m    627\u001B[0m \u001B[38;5;28;01mfor\u001B[39;00m filename \u001B[38;5;129;01min\u001B[39;00m os\u001B[38;5;241m.\u001B[39mlistdir(temp_folder):\n\u001B[1;32m    628\u001B[0m     resource_tracker\u001B[38;5;241m.\u001B[39mmaybe_unlink(\n\u001B[1;32m    629\u001B[0m         os\u001B[38;5;241m.\u001B[39mpath\u001B[38;5;241m.\u001B[39mjoin(temp_folder, filename), \u001B[38;5;124m\"\u001B[39m\u001B[38;5;124mfile\u001B[39m\u001B[38;5;124m\"\u001B[39m\n\u001B[1;32m    630\u001B[0m     )\n\u001B[0;32m--> 631\u001B[0m \u001B[38;5;28mself\u001B[39m\u001B[38;5;241m.\u001B[39m_try_delete_folder(\n\u001B[1;32m    632\u001B[0m     allow_non_empty\u001B[38;5;241m=\u001B[39m\u001B[38;5;28;01mFalse\u001B[39;00m, context_id\u001B[38;5;241m=\u001B[39mcontext_id\n\u001B[1;32m    633\u001B[0m )\n",
      "File \u001B[0;32m~/anaconda3/envs/ai_env/lib/python3.11/site-packages/joblib/_memmapping_reducer.py:658\u001B[0m, in \u001B[0;36mTemporaryResourcesManager._try_delete_folder\u001B[0;34m(self, allow_non_empty, context_id)\u001B[0m\n\u001B[1;32m    656\u001B[0m temp_folder \u001B[38;5;241m=\u001B[39m \u001B[38;5;28mself\u001B[39m\u001B[38;5;241m.\u001B[39m_cached_temp_folders[context_id]\n\u001B[1;32m    657\u001B[0m \u001B[38;5;28;01mtry\u001B[39;00m:\n\u001B[0;32m--> 658\u001B[0m     delete_folder(\n\u001B[1;32m    659\u001B[0m         temp_folder, allow_non_empty\u001B[38;5;241m=\u001B[39mallow_non_empty\n\u001B[1;32m    660\u001B[0m     )\n\u001B[1;32m    661\u001B[0m     \u001B[38;5;66;03m# Now that this folder is deleted, we can forget about it\u001B[39;00m\n\u001B[1;32m    662\u001B[0m     \u001B[38;5;28mself\u001B[39m\u001B[38;5;241m.\u001B[39m_unregister_context(context_id)\n",
      "File \u001B[0;32m~/anaconda3/envs/ai_env/lib/python3.11/site-packages/joblib/disk.py:136\u001B[0m, in \u001B[0;36mdelete_folder\u001B[0;34m(folder_path, onerror, allow_non_empty)\u001B[0m\n\u001B[1;32m    131\u001B[0m     \u001B[38;5;28;01mif\u001B[39;00m err_count \u001B[38;5;241m>\u001B[39m RM_SUBDIRS_N_RETRY:\n\u001B[1;32m    132\u001B[0m         \u001B[38;5;66;03m# the folder cannot be deleted right now. It maybe\u001B[39;00m\n\u001B[1;32m    133\u001B[0m         \u001B[38;5;66;03m# because some temporary files have not been deleted\u001B[39;00m\n\u001B[1;32m    134\u001B[0m         \u001B[38;5;66;03m# yet.\u001B[39;00m\n\u001B[1;32m    135\u001B[0m         \u001B[38;5;28;01mraise\u001B[39;00m\n\u001B[0;32m--> 136\u001B[0m time\u001B[38;5;241m.\u001B[39msleep(RM_SUBDIRS_RETRY_TIME)\n",
      "\u001B[0;31mKeyboardInterrupt\u001B[0m: "
     ]
    }
   ]
  },
  {
   "cell_type": "markdown",
   "source": [
    "6.β. Εφαρμόστε στα εκπαιδευμένα μοντέλα από το validation set μόνο τα δείγματα χωρίς την ετικέτα τους (predict).\n",
    "6.γ. Συγκρίνετε την έξοδο του κάθε μοντέλου σε σχέση με τις αντίστοιχες ετικέτες του validation set και αξιολογήστε την επιδοσή τους χρησιμοποιώντας το F1 score.\n"
   ],
   "metadata": {
    "id": "KD2jGJgUloMW"
   }
  },
  {
   "cell_type": "code",
   "source": [
    "svc_best = Model(SVC(C=1, gamma='auto', kernel='rbf', random_state=42), instant_fit_eval=True)\n",
    "knn_best = Model(KNeighborsClassifier(metric='euclidean', n_neighbors=9, weights='distance'), instant_fit_eval=True)\n",
    "reg_best = Model(LogisticRegression(C=0.1, penalty='l2', solver='liblinear'), instant_fit_eval=True)\n",
    "mlp_best = Model(MLPClassifier(activation='relu', hidden_layer_sizes=(50,), max_iter=500), instant_fit_eval=True)\n",
    "tree_best = Model(DecisionTreeClassifier(max_depth=10, min_samples_leaf=1, min_samples_split=2), instant_fit_eval=True)\n",
    "r_forest_best = Model(\n",
    "    RandomForestClassifier(max_depth=30, max_features='auto', min_samples_leaf=4, min_samples_split=10,\n",
    "                           n_estimators=100), instant_fit_eval=True)"
   ],
   "metadata": {
    "id": "ANPd125TloMW",
    "ExecuteTime": {
     "end_time": "2023-11-21T21:45:06.107737675Z",
     "start_time": "2023-11-21T21:40:54.135148879Z"
    }
   },
   "execution_count": 75,
   "outputs": [
    {
     "name": "stdout",
     "output_type": "stream",
     "text": [
      "SVC(C=1, gamma='auto', random_state=42)\n"
     ]
    },
    {
     "name": "stderr",
     "output_type": "stream",
     "text": [
      "Exception ignored on calling ctypes callback function: <function _ThreadpoolInfo._find_modules_with_dl_iterate_phdr.<locals>.match_module_callback at 0x7f132f110ae0>\n",
      "Traceback (most recent call last):\n",
      "  File \"/home/kostiskak/anaconda3/envs/ai_env/lib/python3.11/site-packages/threadpoolctl.py\", line 400, in match_module_callback\n",
      "    self._make_module_from_path(filepath)\n",
      "  File \"/home/kostiskak/anaconda3/envs/ai_env/lib/python3.11/site-packages/threadpoolctl.py\", line 515, in _make_module_from_path\n",
      "    module = module_class(filepath, prefix, user_api, internal_api)\n",
      "             ^^^^^^^^^^^^^^^^^^^^^^^^^^^^^^^^^^^^^^^^^^^^^^^^^^^^^^\n",
      "  File \"/home/kostiskak/anaconda3/envs/ai_env/lib/python3.11/site-packages/threadpoolctl.py\", line 606, in __init__\n",
      "    self.version = self.get_version()\n",
      "                   ^^^^^^^^^^^^^^^^^^\n",
      "  File \"/home/kostiskak/anaconda3/envs/ai_env/lib/python3.11/site-packages/threadpoolctl.py\", line 646, in get_version\n",
      "    config = get_config().split()\n",
      "             ^^^^^^^^^^^^^^^^^^\n",
      "AttributeError: 'NoneType' object has no attribute 'split'\n"
     ]
    },
    {
     "name": "stdout",
     "output_type": "stream",
     "text": [
      "accuracy:\n",
      "0.8227438562676396\n",
      "classification report\n",
      ":              precision    recall  f1-score   support\n",
      "\n",
      "         0.0       0.94      0.83      0.88     11184\n",
      "         1.0       0.58      0.81      0.68      3343\n",
      "\n",
      "    accuracy                           0.82     14527\n",
      "   macro avg       0.76      0.82      0.78     14527\n",
      "weighted avg       0.85      0.82      0.83     14527\n",
      "\n",
      "KNeighborsClassifier(metric='euclidean', n_neighbors=9, weights='distance')\n",
      "accuracy:\n",
      "0.7384869553245681\n",
      "classification report\n",
      ":              precision    recall  f1-score   support\n",
      "\n",
      "         0.0       0.95      0.70      0.80     11184\n",
      "         1.0       0.46      0.88      0.61      3343\n",
      "\n",
      "    accuracy                           0.74     14527\n",
      "   macro avg       0.71      0.79      0.71     14527\n",
      "weighted avg       0.84      0.74      0.76     14527\n",
      "\n",
      "LogisticRegression(C=0.1, solver='liblinear')\n",
      "accuracy:\n",
      "0.8149652371446272\n",
      "classification report\n",
      ":              precision    recall  f1-score   support\n",
      "\n",
      "         0.0       0.93      0.82      0.87     11184\n",
      "         1.0       0.57      0.81      0.67      3343\n",
      "\n",
      "    accuracy                           0.81     14527\n",
      "   macro avg       0.75      0.81      0.77     14527\n",
      "weighted avg       0.85      0.81      0.82     14527\n",
      "\n",
      "MLPClassifier(hidden_layer_sizes=(50,), max_iter=500)\n",
      "accuracy:\n",
      "0.8503476285537276\n",
      "classification report\n",
      ":              precision    recall  f1-score   support\n",
      "\n",
      "         0.0       0.91      0.89      0.90     11184\n",
      "         1.0       0.66      0.72      0.69      3343\n",
      "\n",
      "    accuracy                           0.85     14527\n",
      "   macro avg       0.79      0.81      0.80     14527\n",
      "weighted avg       0.86      0.85      0.85     14527\n",
      "\n",
      "DecisionTreeClassifier(max_depth=10)\n",
      "accuracy:\n",
      "0.8205410614717423\n",
      "classification report\n",
      ":              precision    recall  f1-score   support\n",
      "\n",
      "         0.0       0.92      0.84      0.88     11184\n",
      "         1.0       0.58      0.77      0.66      3343\n",
      "\n",
      "    accuracy                           0.82     14527\n",
      "   macro avg       0.75      0.80      0.77     14527\n",
      "weighted avg       0.85      0.82      0.83     14527\n",
      "\n",
      "RandomForestClassifier(max_depth=30, max_features='auto', min_samples_leaf=4,\n",
      "                       min_samples_split=10)\n"
     ]
    },
    {
     "name": "stderr",
     "output_type": "stream",
     "text": [
      "/home/kostiskak/anaconda3/envs/ai_env/lib/python3.11/site-packages/sklearn/ensemble/_forest.py:424: FutureWarning: `max_features='auto'` has been deprecated in 1.1 and will be removed in 1.3. To keep the past behaviour, explicitly set `max_features='sqrt'` or remove this parameter as it is also the default value for RandomForestClassifiers and ExtraTreesClassifiers.\n",
      "  warn(\n"
     ]
    },
    {
     "name": "stdout",
     "output_type": "stream",
     "text": [
      "accuracy:\n",
      "0.8645969573896881\n",
      "classification report\n",
      ":              precision    recall  f1-score   support\n",
      "\n",
      "         0.0       0.92      0.90      0.91     11184\n",
      "         1.0       0.69      0.76      0.72      3343\n",
      "\n",
      "    accuracy                           0.86     14527\n",
      "   macro avg       0.81      0.83      0.82     14527\n",
      "weighted avg       0.87      0.86      0.87     14527\n"
     ]
    }
   ]
  },
  {
   "cell_type": "markdown",
   "source": [
    "6.δ.  Αξιολογήστε συνολικά την επίδοση των μοντέλων χρησιμοποιώντας κάποιο γράφημα (π.χ. ιστόγραμμα, bar plot) και σχολιάστε ποιο μοντέλο είχε την καλύτερη επίδοση.\n"
   ],
   "metadata": {
    "id": "l6vs5gOQloMW"
   }
  },
  {
   "cell_type": "markdown",
   "source": [
    "# Version 2 Results"
   ],
   "metadata": {
    "collapsed": false
   }
  },
  {
   "cell_type": "code",
   "execution_count": 76,
   "outputs": [
    {
     "name": "stdout",
     "output_type": "stream",
     "text": [
      "The most accurate model is: RandomForestClassifier(max_depth=30, max_features='auto', min_samples_leaf=4,\n",
      "                       min_samples_split=10)\n",
      "The highest F1-score model is: RandomForestClassifier(max_depth=30, max_features='auto', min_samples_leaf=4,\n",
      "                       min_samples_split=10)\n"
     ]
    },
    {
     "data": {
      "text/plain": "<Figure size 640x480 with 2 Axes>",
      "image/png": "[encoded data removed]"
     },
     "metadata": {},
     "output_type": "display_data"
    }
   ],
   "source": [
    "from numpy import argmax\n",
    "import re\n",
    "\n",
    "best_model_list = [gnb, knn_best, reg_best, mlp_best, svc_best, tree_best, r_forest_best]\n",
    "model_names = [str(m)[:12] for m in best_model_list]\n",
    "model_accuracy_list = [m.accuracy for m in best_model_list]\n",
    "get_f1 = lambda report: float(re.search('macro avg\\s+\\d+.\\d+\\s+\\d+.\\d+\\s+(\\d+.\\d+)', report).group(1))\n",
    "model_f1_list = [get_f1(m.classification_report) for m in best_model_list]\n",
    "\n",
    "print(f'The most accurate model is: {str(best_model_list[argmax(model_accuracy_list)])}')\n",
    "print(f'The highest F1-score model is: {str(best_model_list[argmax(model_f1_list)])}')\n",
    "\n",
    "# Set up the matplotlib figure with two subplots, one for accuracy and one for F1 score, using the alternative subplot notation\n",
    "\n",
    "# Plot for accuracy scores\n",
    "plt.subplot(121)  # 1 row, 2 columns, 1st subplot\n",
    "plt.bar(model_names, model_accuracy_list)\n",
    "plt.title('Comparison of Model Accuracies')\n",
    "plt.xlabel('Models')\n",
    "plt.ylabel('Accuracy')\n",
    "plt.ylim([0.6, 0.9])  # Set y-axis to start from 0.7 to better highlight differences\n",
    "plt.xticks(rotation='vertical')\n",
    "# Display values on the bars for accuracy\n",
    "for i, v in enumerate(model_accuracy_list):\n",
    "    plt.text(i, v + 0.01, f\"{v:.2f}\", ha='center', color='black')\n",
    "\n",
    "# Plot for F1 scores\n",
    "plt.subplot(122)  # 1 row, 2 columns, 2nd subplot\n",
    "plt.bar(model_names, model_f1_list)\n",
    "plt.title('Comparison of Model F1 Scores')\n",
    "plt.xlabel('Models')\n",
    "plt.ylabel('F1 Score')\n",
    "plt.ylim([0.6, 0.9])  # Set y-axis to start from 0.6 to better highlight differences\n",
    "plt.xticks(rotation='vertical')\n",
    "# Display values on the bars for F1 scores\n",
    "for i, v in enumerate(model_f1_list):\n",
    "    plt.text(i, v + 0.01, f\"{v:.2f}\", ha='center', color='black')\n",
    "\n",
    "# Adjust layout to prevent clipping of tick-labels\n",
    "plt.tight_layout()\n",
    "# Show the plot\n",
    "plt.show()\n"
   ],
   "metadata": {
    "collapsed": false,
    "ExecuteTime": {
     "end_time": "2023-11-21T21:45:06.396851106Z",
     "start_time": "2023-11-21T21:45:06.117215119Z"
    }
   }
  },
  {
   "cell_type": "code",
   "execution_count": 77,
   "outputs": [],
   "source": [
    "import torch\n",
    "import torch.nn as nn\n",
    "import torch.optim as optim\n",
    "from torch.utils.data import DataLoader, TensorDataset\n",
    "from sklearn.model_selection import train_test_split\n",
    "from sklearn.metrics import accuracy_score\n",
    "import pandas as pd\n",
    "\n",
    "# Assuming you have your dataset loaded as a pandas DataFrame\n",
    "# and the target variable is named 'RainTomorrow'\n",
    "data = pd.read_csv('content/data/version2_final_train.csv')\n",
    "\n",
    "# Separate features and target variable\n",
    "X = data.drop('RainTomorrow', axis=1).to_numpy()\n",
    "y = data['RainTomorrow'].to_numpy()\n",
    "\n",
    "# Split the data into training and validation sets\n",
    "X_train, X_val, y_train, y_val = train_test_split(X, y, test_size=0.2, random_state=42)\n",
    "\n",
    "# Convert the data into PyTorch tensors\n",
    "X_train_tensor = torch.tensor(X_train, dtype=torch.float32)\n",
    "y_train_tensor = torch.tensor(y_train, dtype=torch.float32).view(-1, 1)\n",
    "X_val_tensor = torch.tensor(X_val, dtype=torch.float32)\n",
    "y_val_tensor = torch.tensor(y_val, dtype=torch.float32).view(-1, 1)\n",
    "\n",
    "# Create TensorDatasets for the training and validation sets\n",
    "train_dataset = TensorDataset(X_train_tensor, y_train_tensor)\n",
    "val_dataset = TensorDataset(X_val_tensor, y_val_tensor)\n",
    "\n",
    "# Define DataLoaders for the training and validation sets\n",
    "train_loader = DataLoader(dataset=train_dataset, batch_size=64, shuffle=True)\n",
    "val_loader = DataLoader(dataset=val_dataset, batch_size=64, shuffle=False)\n",
    "\n",
    "\n",
    "# Define the neural network architecture\n",
    "class Net(nn.Module):\n",
    "    def __init__(self):\n",
    "        super(Net, self).__init__()\n",
    "        self.fc1 = nn.Linear(X_train.shape[1], 64)  # Input layer to first hidden layer\n",
    "        self.fc2 = nn.Linear(64, 32)  # First hidden layer to second hidden layer\n",
    "        self.fc3 = nn.Linear(32, 1)  # Second hidden layer to output layer\n",
    "        self.dropout = nn.Dropout(0.5)\n",
    "\n",
    "    def forward(self, x):\n",
    "        x = torch.relu(self.fc1(x))\n",
    "        x = self.dropout(x)\n",
    "        x = torch.relu(self.fc2(x))\n",
    "        x = torch.sigmoid(self.fc3(x))  # Sigmoid activation for binary classification\n",
    "        return x\n",
    "\n",
    "    def eval_results(self):\n",
    "        global test_data\n",
    "        # Convert the test data into a PyTorch tensor\n",
    "        X_test_tensor = torch.tensor(test_data.to_numpy(), dtype=torch.float32)\n",
    "\n",
    "        # Assuming you have the 'best_model.pth' file in the current directory\n",
    "        # Load the trained model weights\n",
    "        self.load_state_dict(torch.load('best_model.pth'))\n",
    "\n",
    "        # Put the model in evaluation mode\n",
    "        self.eval()\n",
    "\n",
    "        # Make predictions\n",
    "        with torch.no_grad():\n",
    "            test_preds = self.forward(X_test_tensor)\n",
    "\n",
    "        # Convert predictions to binary labels\n",
    "        predicted_labels = test_preds.ge(0.5).view(-1).numpy()\n",
    "        return predicted_labels"
   ],
   "metadata": {
    "collapsed": false,
    "ExecuteTime": {
     "end_time": "2023-11-21T21:45:07.894657759Z",
     "start_time": "2023-11-21T21:45:06.398817861Z"
    }
   }
  },
  {
   "cell_type": "code",
   "execution_count": 78,
   "outputs": [
    {
     "name": "stdout",
     "output_type": "stream",
     "text": [
      "Epoch 1, Loss: 21.286966769436603, Validation Accuracy: 0.7145069695405266\n",
      "Epoch 2, Loss: 3.0634630158199334, Validation Accuracy: 0.7678884873515746\n",
      "Epoch 3, Loss: 0.5594979471991165, Validation Accuracy: 0.7692307692307693\n",
      "Epoch 4, Loss: 0.5444615632295609, Validation Accuracy: 0.7695405265875065\n",
      "Epoch 5, Loss: 0.5408017956974482, Validation Accuracy: 0.7698502839442437\n",
      "Epoch 6, Loss: 0.5392023512337467, Validation Accuracy: 0.7694372741352608\n",
      "Epoch 7, Loss: 0.5372777695309604, Validation Accuracy: 0.7696437790397522\n",
      "Epoch 8, Loss: 0.5376857137522681, Validation Accuracy: 0.7699535363964894\n",
      "Epoch 9, Loss: 0.53712695084586, Validation Accuracy: 0.7700567888487352\n",
      "Epoch 10, Loss: 0.5357712308073989, Validation Accuracy: 0.7701600413009809\n",
      "Epoch 11, Loss: 0.535653210561661, Validation Accuracy: 0.7701600413009809\n",
      "Epoch 12, Loss: 0.5354855586790016, Validation Accuracy: 0.7699535363964894\n",
      "Epoch 13, Loss: 0.5352996476609321, Validation Accuracy: 0.7703665462054724\n",
      "Epoch 14, Loss: 0.535904249194825, Validation Accuracy: 0.7704697986577181\n",
      "Epoch 15, Loss: 0.5350105728056564, Validation Accuracy: 0.7704697986577181\n",
      "Epoch 16, Loss: 0.5349696687247494, Validation Accuracy: 0.7706763035622096\n",
      "Epoch 17, Loss: 0.5347430756678282, Validation Accuracy: 0.7706763035622096\n",
      "Epoch 18, Loss: 0.5355481066719534, Validation Accuracy: 0.7707795560144554\n",
      "Epoch 19, Loss: 0.5347275263798905, Validation Accuracy: 0.771295818275684\n",
      "Epoch 20, Loss: 0.5345771990396796, Validation Accuracy: 0.7713990707279298\n",
      "Epoch 21, Loss: 0.5333991209075789, Validation Accuracy: 0.7709860609189468\n",
      "Epoch 22, Loss: 0.5335332552100173, Validation Accuracy: 0.7711925658234383\n",
      "Epoch 23, Loss: 0.533551547590262, Validation Accuracy: 0.7708828084667011\n",
      "Epoch 24, Loss: 0.5333557579383599, Validation Accuracy: 0.7701600413009809\n",
      "Epoch 25, Loss: 0.5333604107890585, Validation Accuracy: 0.7711925658234383\n",
      "Epoch 26, Loss: 0.5324474928697737, Validation Accuracy: 0.7713990707279298\n",
      "Epoch 27, Loss: 0.5315419534842173, Validation Accuracy: 0.7703665462054724\n",
      "Epoch 28, Loss: 0.5302835073408121, Validation Accuracy: 0.7711925658234383\n",
      "Epoch 29, Loss: 0.5283144691301258, Validation Accuracy: 0.771295818275684\n",
      "Epoch 30, Loss: 0.5267759037293224, Validation Accuracy: 0.771295818275684\n",
      "Epoch 31, Loss: 0.5258719566533274, Validation Accuracy: 0.7722250903458957\n",
      "Epoch 32, Loss: 0.5237133054450007, Validation Accuracy: 0.7728446050593701\n",
      "Epoch 33, Loss: 0.5233537545888731, Validation Accuracy: 0.7725348477026329\n",
      "Epoch 34, Loss: 0.5237171528953137, Validation Accuracy: 0.7724315952503872\n",
      "Epoch 35, Loss: 0.522984430587331, Validation Accuracy: 0.7727413526071244\n",
      "Epoch 36, Loss: 0.5215806739263409, Validation Accuracy: 0.7733608673205988\n",
      "Epoch 37, Loss: 0.5211296611198104, Validation Accuracy: 0.7726381001548787\n",
      "Epoch 38, Loss: 0.5207579197368213, Validation Accuracy: 0.7710893133711926\n",
      "Epoch 39, Loss: 0.5194442707418215, Validation Accuracy: 0.7726381001548787\n",
      "Epoch 40, Loss: 0.5196517380845822, Validation Accuracy: 0.7726381001548787\n",
      "Epoch 41, Loss: 0.5212638729279584, Validation Accuracy: 0.7720185854414042\n",
      "Epoch 42, Loss: 0.520224799319069, Validation Accuracy: 0.7731543624161074\n",
      "Epoch 43, Loss: 0.5205845769875908, Validation Accuracy: 0.7735673722250903\n",
      "Epoch 44, Loss: 0.5203212557157667, Validation Accuracy: 0.7715023231801755\n",
      "Epoch 45, Loss: 0.5207105569615222, Validation Accuracy: 0.7724315952503872\n",
      "Epoch 46, Loss: 0.5214170669466749, Validation Accuracy: 0.7720185854414042\n",
      "Epoch 47, Loss: 0.5199874461975822, Validation Accuracy: 0.7742901393908105\n",
      "Epoch 48, Loss: 0.5191745202828555, Validation Accuracy: 0.7728446050593701\n",
      "Epoch 49, Loss: 0.5189512698563805, Validation Accuracy: 0.771708828084667\n",
      "Epoch 50, Loss: 0.5195362814287148, Validation Accuracy: 0.7739803820340733\n",
      "Finished Training\n"
     ]
    }
   ],
   "source": [
    "\n",
    "# Initialize the network\n",
    "net = Net()\n",
    "print()\n",
    "# Define the loss function and optimizer\n",
    "criterion = nn.BCELoss()\n",
    "optimizer = optim.Adam(net.parameters(), lr=0.001)\n",
    "\n",
    "# Define a learning rate scheduler\n",
    "scheduler = optim.lr_scheduler.StepLR(optimizer, step_size=10, gamma=0.1)\n",
    "\n",
    "\n",
    "# Function for calculating the accuracy\n",
    "def calculate_accuracy(y_true, y_pred):\n",
    "    predicted = y_pred.ge(.5).view(-1).cpu()\n",
    "    return accuracy_score(y_true.cpu(), predicted)\n",
    "\n",
    "\n",
    "# Function for the training loop\n",
    "def train_model(num_epochs):\n",
    "    best_val_accuracy = 0\n",
    "    for epoch in range(num_epochs):  # Loop over the dataset multiple times\n",
    "        running_loss = 0.0\n",
    "        for i, data in enumerate(train_loader, 0):\n",
    "            # Get the inputs; data is a list of [inputs, labels]\n",
    "            inputs, labels = data\n",
    "\n",
    "            # Zero the parameter gradients\n",
    "            optimizer.zero_grad()\n",
    "\n",
    "            # Forward + backward + optimize\n",
    "            outputs = net(inputs)\n",
    "            loss = criterion(outputs, labels)\n",
    "            loss.backward()\n",
    "            optimizer.step()\n",
    "\n",
    "            running_loss += loss.item()\n",
    "\n",
    "        # Update the learning rate\n",
    "        scheduler.step()\n",
    "\n",
    "        # Validation accuracy\n",
    "        val_preds = torch.cat([net(batch[0]) for batch in val_loader])\n",
    "        val_accuracy = calculate_accuracy(y_val_tensor, val_preds)\n",
    "\n",
    "        print(f'Epoch {epoch + 1}, Loss: {running_loss / len(train_loader)}, Validation Accuracy: {val_accuracy}')\n",
    "\n",
    "        # Save the best model\n",
    "        if val_accuracy > best_val_accuracy:\n",
    "            best_val_accuracy = val_accuracy\n",
    "            torch.save(net.state_dict(), 'best_model.pth')\n",
    "\n",
    "    print('Finished Training')\n",
    "\n",
    "\n",
    "# Train the model with more epochs\n",
    "train_model(num_epochs=50)"
   ],
   "metadata": {
    "collapsed": false,
    "ExecuteTime": {
     "end_time": "2023-11-21T21:45:50.077062364Z",
     "start_time": "2023-11-21T21:45:07.940516201Z"
    }
   }
  },
  {
   "cell_type": "markdown",
   "source": [
    "This result and the results from the tuned models can prove to us that with the current data that we are using to try to forecast the weather the best accuracy and f1 score are 85% and 75% approximately and respectively for all the models\n",
    "So now the problem to reach higher results isn't the models themselves but the data that we have. Maybe if we processed them differently we would get better results "
   ],
   "metadata": {
    "collapsed": false
   }
  },
  {
   "cell_type": "markdown",
   "source": [
    "### 7. Προετοιμασία αρχείου για τη δεύτερη υποβολή στο kaggle"
   ],
   "metadata": {
    "id": "DrWizICNmItV"
   }
  },
  {
   "cell_type": "markdown",
   "source": [
    "7.α. Χρησιμοποιήστε **ΜΟΝΟ** το μοντέλο σας με την καλύτερη επίδοση για να κάνετε προβλέψεις χρησιμοποιώντας το δοθέν σύνολο εκπαίδευσης (test set)"
   ],
   "metadata": {
    "id": "GzoRElvAmItV"
   }
  },
  {
   "cell_type": "code",
   "execution_count": 102,
   "outputs": [
    {
     "data": {
      "text/plain": "Index(['Date', 'Location', 'RainTomorrow', 'WindDir3pm', 'WindDir9am',\n       'WindGustDir', 'id'],\n      dtype='object')"
     },
     "execution_count": 102,
     "metadata": {},
     "output_type": "execute_result"
    }
   ],
   "source": [
    "data.columns.difference(test_data.columns)"
   ],
   "metadata": {
    "collapsed": false,
    "ExecuteTime": {
     "end_time": "2023-11-21T22:47:48.601047891Z",
     "start_time": "2023-11-21T22:47:48.559293958Z"
    }
   }
  },
  {
   "cell_type": "code",
   "execution_count": 0,
   "outputs": [],
   "source": [
    "# we use test_data from step 5.a\n",
    "# First try with svc then lin_reg finish with ffn\n",
    "svc_pred = svc_best.model.predict(test_data)\n",
    "reg_best_pred = reg_best.model.predict(test_data)\n",
    "r_forest_best_pred = r_forest_best.model.predict(test_data)\n",
    "\n",
    "\n",
    "# r_forest_new_pred = r_forest_best.model.predict(updated_test_data)"
   ],
   "metadata": {
    "collapsed": false
   }
  },
  {
   "cell_type": "code",
   "execution_count": 106,
   "outputs": [
    {
     "ename": "RuntimeError",
     "evalue": "mat1 and mat2 shapes cannot be multiplied (9699x111 and 112x64)",
     "output_type": "error",
     "traceback": [
      "\u001B[0;31m---------------------------------------------------------------------------\u001B[0m",
      "\u001B[0;31mRuntimeError\u001B[0m                              Traceback (most recent call last)",
      "Cell \u001B[0;32mIn[106], line 1\u001B[0m\n\u001B[0;32m----> 1\u001B[0m net_pred \u001B[38;5;241m=\u001B[39m net\u001B[38;5;241m.\u001B[39meval_results()\n",
      "Cell \u001B[0;32mIn[77], line 65\u001B[0m, in \u001B[0;36mNet.eval_results\u001B[0;34m(self)\u001B[0m\n\u001B[1;32m     63\u001B[0m \u001B[38;5;66;03m# Make predictions\u001B[39;00m\n\u001B[1;32m     64\u001B[0m \u001B[38;5;28;01mwith\u001B[39;00m torch\u001B[38;5;241m.\u001B[39mno_grad():\n\u001B[0;32m---> 65\u001B[0m     test_preds \u001B[38;5;241m=\u001B[39m \u001B[38;5;28mself\u001B[39m\u001B[38;5;241m.\u001B[39mforward(X_test_tensor)\n\u001B[1;32m     67\u001B[0m \u001B[38;5;66;03m# Convert predictions to binary labels\u001B[39;00m\n\u001B[1;32m     68\u001B[0m predicted_labels \u001B[38;5;241m=\u001B[39m test_preds\u001B[38;5;241m.\u001B[39mge(\u001B[38;5;241m0.5\u001B[39m)\u001B[38;5;241m.\u001B[39mview(\u001B[38;5;241m-\u001B[39m\u001B[38;5;241m1\u001B[39m)\u001B[38;5;241m.\u001B[39mnumpy()\n",
      "Cell \u001B[0;32mIn[77], line 45\u001B[0m, in \u001B[0;36mNet.forward\u001B[0;34m(self, x)\u001B[0m\n\u001B[1;32m     44\u001B[0m \u001B[38;5;28;01mdef\u001B[39;00m \u001B[38;5;21mforward\u001B[39m(\u001B[38;5;28mself\u001B[39m, x):\n\u001B[0;32m---> 45\u001B[0m     x \u001B[38;5;241m=\u001B[39m torch\u001B[38;5;241m.\u001B[39mrelu(\u001B[38;5;28mself\u001B[39m\u001B[38;5;241m.\u001B[39mfc1(x))\n\u001B[1;32m     46\u001B[0m     x \u001B[38;5;241m=\u001B[39m \u001B[38;5;28mself\u001B[39m\u001B[38;5;241m.\u001B[39mdropout(x)\n\u001B[1;32m     47\u001B[0m     x \u001B[38;5;241m=\u001B[39m torch\u001B[38;5;241m.\u001B[39mrelu(\u001B[38;5;28mself\u001B[39m\u001B[38;5;241m.\u001B[39mfc2(x))\n",
      "File \u001B[0;32m~/anaconda3/envs/ai_env/lib/python3.11/site-packages/torch/nn/modules/module.py:1518\u001B[0m, in \u001B[0;36mModule._wrapped_call_impl\u001B[0;34m(self, *args, **kwargs)\u001B[0m\n\u001B[1;32m   1516\u001B[0m     \u001B[38;5;28;01mreturn\u001B[39;00m \u001B[38;5;28mself\u001B[39m\u001B[38;5;241m.\u001B[39m_compiled_call_impl(\u001B[38;5;241m*\u001B[39margs, \u001B[38;5;241m*\u001B[39m\u001B[38;5;241m*\u001B[39mkwargs)  \u001B[38;5;66;03m# type: ignore[misc]\u001B[39;00m\n\u001B[1;32m   1517\u001B[0m \u001B[38;5;28;01melse\u001B[39;00m:\n\u001B[0;32m-> 1518\u001B[0m     \u001B[38;5;28;01mreturn\u001B[39;00m \u001B[38;5;28mself\u001B[39m\u001B[38;5;241m.\u001B[39m_call_impl(\u001B[38;5;241m*\u001B[39margs, \u001B[38;5;241m*\u001B[39m\u001B[38;5;241m*\u001B[39mkwargs)\n",
      "File \u001B[0;32m~/anaconda3/envs/ai_env/lib/python3.11/site-packages/torch/nn/modules/module.py:1527\u001B[0m, in \u001B[0;36mModule._call_impl\u001B[0;34m(self, *args, **kwargs)\u001B[0m\n\u001B[1;32m   1522\u001B[0m \u001B[38;5;66;03m# If we don't have any hooks, we want to skip the rest of the logic in\u001B[39;00m\n\u001B[1;32m   1523\u001B[0m \u001B[38;5;66;03m# this function, and just call forward.\u001B[39;00m\n\u001B[1;32m   1524\u001B[0m \u001B[38;5;28;01mif\u001B[39;00m \u001B[38;5;129;01mnot\u001B[39;00m (\u001B[38;5;28mself\u001B[39m\u001B[38;5;241m.\u001B[39m_backward_hooks \u001B[38;5;129;01mor\u001B[39;00m \u001B[38;5;28mself\u001B[39m\u001B[38;5;241m.\u001B[39m_backward_pre_hooks \u001B[38;5;129;01mor\u001B[39;00m \u001B[38;5;28mself\u001B[39m\u001B[38;5;241m.\u001B[39m_forward_hooks \u001B[38;5;129;01mor\u001B[39;00m \u001B[38;5;28mself\u001B[39m\u001B[38;5;241m.\u001B[39m_forward_pre_hooks\n\u001B[1;32m   1525\u001B[0m         \u001B[38;5;129;01mor\u001B[39;00m _global_backward_pre_hooks \u001B[38;5;129;01mor\u001B[39;00m _global_backward_hooks\n\u001B[1;32m   1526\u001B[0m         \u001B[38;5;129;01mor\u001B[39;00m _global_forward_hooks \u001B[38;5;129;01mor\u001B[39;00m _global_forward_pre_hooks):\n\u001B[0;32m-> 1527\u001B[0m     \u001B[38;5;28;01mreturn\u001B[39;00m forward_call(\u001B[38;5;241m*\u001B[39margs, \u001B[38;5;241m*\u001B[39m\u001B[38;5;241m*\u001B[39mkwargs)\n\u001B[1;32m   1529\u001B[0m \u001B[38;5;28;01mtry\u001B[39;00m:\n\u001B[1;32m   1530\u001B[0m     result \u001B[38;5;241m=\u001B[39m \u001B[38;5;28;01mNone\u001B[39;00m\n",
      "File \u001B[0;32m~/anaconda3/envs/ai_env/lib/python3.11/site-packages/torch/nn/modules/linear.py:114\u001B[0m, in \u001B[0;36mLinear.forward\u001B[0;34m(self, input)\u001B[0m\n\u001B[1;32m    113\u001B[0m \u001B[38;5;28;01mdef\u001B[39;00m \u001B[38;5;21mforward\u001B[39m(\u001B[38;5;28mself\u001B[39m, \u001B[38;5;28minput\u001B[39m: Tensor) \u001B[38;5;241m-\u001B[39m\u001B[38;5;241m>\u001B[39m Tensor:\n\u001B[0;32m--> 114\u001B[0m     \u001B[38;5;28;01mreturn\u001B[39;00m F\u001B[38;5;241m.\u001B[39mlinear(\u001B[38;5;28minput\u001B[39m, \u001B[38;5;28mself\u001B[39m\u001B[38;5;241m.\u001B[39mweight, \u001B[38;5;28mself\u001B[39m\u001B[38;5;241m.\u001B[39mbias)\n",
      "\u001B[0;31mRuntimeError\u001B[0m: mat1 and mat2 shapes cannot be multiplied (9699x111 and 112x64)"
     ]
    }
   ],
   "source": [
    "\n",
    "net_pred = net.eval_results()"
   ],
   "metadata": {
    "collapsed": false,
    "ExecuteTime": {
     "end_time": "2023-11-21T22:50:04.775143685Z",
     "start_time": "2023-11-21T22:50:04.708091367Z"
    }
   }
  },
  {
   "cell_type": "markdown",
   "source": [
    "7.β. Αποθηκεύστε τις προβλέψεις από το καλύτερο μοντέλο σας σε ένα csv αρχείο. To csv αρχείο θα πρέπει να είναι περιέχει 2 στήλες: η πρώτη στήλη να περιέχει την στήλη id του test set file και η δεύτερη στήλη τις αντίστοιχες προβλέψεις που έκανε το καλύτερα εκπαιδευμένο μοντέλο σας (βήμα 7α)."
   ],
   "metadata": {
    "id": "TA2fuBn9mItW"
   }
  },
  {
   "cell_type": "code",
   "source": [
    "svc_pred_df = pd.DataFrame({'RainTomorrow': svc_pred})\n",
    "svc_pred_df.index += 1\n",
    "svc_pred_df.to_csv('part2_svc_pred.csv', index=True, index_label='id')\n",
    "\n",
    "reg_pred_df = pd.DataFrame({'RainTomorrow': reg_best_pred})\n",
    "reg_pred_df.index += 1\n",
    "reg_pred_df.to_csv('part2_reg_pred.csv', index=True, index_label='id')\n",
    "\n",
    "r_forest_pred_df = pd.DataFrame({'RainTomorrow': r_forest_best_pred})\n",
    "r_forest_pred_df.index += 1\n",
    "r_forest_pred_df.to_csv('part2_net_pred.csv', index=True, index_label='id')"
   ],
   "metadata": {
    "id": "9A1YaimKmItW",
    "ExecuteTime": {
     "end_time": "2023-11-21T22:49:38.009685795Z",
     "start_time": "2023-11-21T22:49:37.926552294Z"
    }
   },
   "execution_count": 105,
   "outputs": []
  },
  {
   "cell_type": "code",
   "execution_count": null,
   "outputs": [],
   "source": [],
   "metadata": {
    "collapsed": false
   }
  }
 ]
}
