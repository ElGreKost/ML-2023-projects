{
 "cells": [
  {
   "cell_type": "markdown",
   "metadata": {
    "id": "Dv7UKdyCAnqD"
   },
   "source": [
    "### Μηχανική Μάθηση\n",
    "#### 2η ατομική εργασία\n",
    "ΣΗΜΜΥ- ΕΜΠ - 7ο εξάμηνο -Ακ. Έτος 2023-24\n",
    "\n"
   ]
  },
  {
   "cell_type": "markdown",
   "metadata": {
    "id": "hL5bHZx06KZc"
   },
   "source": [
    "# ⚠️\n",
    "`Επισημαίνεται ότι απαγορεύεται η ανάρτηση των λύσεων των εργαστηριακών ασκήσεων στο github, ή σε άλλες ιστοσελίδες. Η σχεδίαση και το περιεχόμενο των εργαστηριακών projects αποτελούν αντικείμενο πνευματικής ιδιοκτησίας της διδακτικής ομάδας του μαθήματος.`"
   ]
  },
  {
   "cell_type": "markdown",
   "metadata": {
    "id": "vqmQiAojwM3Z"
   },
   "source": [
    "### Εισαγωγή\n",
    "Στην άσκηση αυτή θα χρησιμοποιήσετε τη μέθοδο συσταδοποίησης k-Μeans, καθώς και τη μέθοδο μείωσης διαστατικότητας PCA σε υπερφασματική εικόνα."
   ]
  },
  {
   "cell_type": "markdown",
   "metadata": {
    "id": "oAx-ib_pBrq9"
   },
   "source": [
    "Ονοματεπώνυμο φοιτητή: Παναγιώτης Κωνσταντίνος Κακκαβάς\n",
    "\n",
    "Α.Μ.: 03120866"
   ]
  },
  {
   "cell_type": "markdown",
   "metadata": {
    "id": "Qe4uFFcv9XF3"
   },
   "source": [
    "### 1. Φόρτωση υπερφασματικής εικόνας\n",
    "\n",
    "Κατεβάστε την υπερφασματική εικόνα `indian_pines_corrected.npy` και τις αντίστοιχες επισημειώσεις `indian_pines_gt.npy` από το Google Drive:\n",
    "https://drive.google.com/drive/folders/15hbGoLga9n4K6wxRP6qsLV1P-7Nj-Vht?usp=sharing\n",
    "\n",
    "1.α. Φορτώστε την εικόνα με χρήση της συνάρτησης numpy.load"
   ]
  },
  {
   "cell_type": "markdown",
   "metadata": {
    "id": "lSlCmshW9ZfS"
   },
   "source": [
    "1.β. Χρησιμοποιώντας την ίδια συνάρτηση, φορτώστε τις αντίστοιχες επισημειώσεις ανά pixel εικόνας `indian_pines_gt.npy`. Οι επισημειώσεις αυτές αντιστοιχίζουν κάθε pixel της υπερφασματικής εικόνας σε ένα τύπο από 17 διαφορετικές κατηγορίες (η επισημείωση 0 αντιστοιχεί σε \"Undefined\"):\n",
    "\n",
    "```python\n",
    "classes = [\n",
    "    \"Undefined\",\n",
    "    \"Alfalfa\",\n",
    "    \"Corn-notill\",\n",
    "    \"Corn-mintill\",\n",
    "    \"Corn\",\n",
    "    \"Grass-pasture\",\n",
    "    \"Grass-trees\",\n",
    "    \"Grass-pasture-mowed\",\n",
    "    \"Hay-windrowed\",\n",
    "    \"Oats\",\n",
    "    \"Soybean-notill\",\n",
    "    \"Soybean-mintill\",\n",
    "    \"Soybean-clean\",\n",
    "    \"Wheat\",\n",
    "    \"Woods\",\n",
    "    \"Buildings-Grass-Trees-Drives\",\n",
    "    \"Stone-Steel-Towers\"\n",
    "]\n",
    "```"
   ]
  },
  {
   "cell_type": "markdown",
   "metadata": {
    "id": "wrxF1hO1HPpJ"
   },
   "source": [
    "### 2. Οπτικοποίηση και Διερευνητική ανάλυση δεδομένων"
   ]
  },
  {
   "cell_type": "markdown",
   "metadata": {
    "id": "fT33H0HPJ7Hg"
   },
   "source": [
    "Παρουσιάστε με χρήση κώδικα πληροφορίες για τα εξής:\n",
    "\n",
    "2α. Βρείτε το ύψος και το πλάτος της εικόνας, καθώς και τον αριθμό των υπερφασματικών καναλιών\n",
    "\n",
    "2β. Σχεδιάστε με χρήση της matplotlib το 3ο, 65ο, και 95ο κανάλι της εικόνας\n",
    "\n",
    "2γ. Υπολογίστε τον αριθμό των διαφορετικών κατηγοριών καλλιέργειας/κλάσης στις επισημειώσεις\n",
    "\n",
    "2δ. Σχεδιάστε με χρήση της matplotlib τις επισημειώσεις σε μορφή εικόνας. Προσθέστε επιπλέον επεξηγηματική λεζάντα με χρήση της βιβλιοθήκης κάθε επισημείωσης (χρησιμοποιήστε τη λίστα `classes` που σας δόθηκε προηγουμένως).\n",
    "\n",
    "2ε. Υπολογίστε πόσα pixels της εικόνας αντιστοιχούν σε κάθε τύπο καλλιέργειας"
   ]
  },
  {
   "cell_type": "markdown",
   "metadata": {
    "id": "EbK3in0hNMeI"
   },
   "source": [
    "### 3. Εύρεση φασματικών υπογραφών"
   ]
  },
  {
   "cell_type": "markdown",
   "metadata": {
    "id": "mKsQVCnLQZ30"
   },
   "source": [
    "3.α. Μετατρέψτε την υπερφασματική εικόνα και τις επισημειώσεις σε μορφή κατάλληλη για περαιτέρω επεξεργασία. Η εικόνα θα πρέπει να μετατραπεί σε πίνακα N x Κ, όπου Ν είναι ο αριθμός των pixels και K ο αριθμός των καναλιών. Οι επισημειώσεις αντίστοιχα θα πρέπει να μετατραπούν σε διάνυσμα μήκους Ν. Στη συνέχεια, αφαιρέστε όσα δεδομένα είναι επισημειωμένα ως `Undefined`.\n",
    "\n",
    "💡 Χρησιμοποιήστε την `numpy reshape`"
   ]
  },
  {
   "cell_type": "markdown",
   "metadata": {
    "id": "GPCa3SklNmBe"
   },
   "source": [
    "3.β. Επιλέξτε ένα τυχαίο pixel της εικόνας από κάθε κατηγορία, είτε με προγραμματιστικό τρόπο, είτε χειροκίνητα."
   ]
  },
  {
   "cell_type": "markdown",
   "metadata": {
    "id": "ZRq1eHYfNoEO"
   },
   "source": [
    "3.γ. Γράψτε κώδικα για να σχεδιάσετε την υπερφασματική υπογραφή των επιλεγμένων pixels."
   ]
  },
  {
   "cell_type": "markdown",
   "metadata": {
    "id": "KWsb4KQmQiFc"
   },
   "source": [
    "3.δ. Επαναλάβετε την προηγούμενη διαδικασία άλλες δύο φορές, σχεδιάζοντας τα νέα διαγράμματα."
   ]
  },
  {
   "cell_type": "markdown",
   "metadata": {
    "id": "fg_-icxPDgfA"
   },
   "source": [
    "3.ε. Σημειώστε τις παρατηρήσεις σας και τα συμπεράσματα σας. Προσπαθήστε να απαντήσετε στις ακόλουθες ερωτήσεις:\n",
    "    \n",
    "* Με βάση τα προηγούμενα διαγράμματα θεωρείτε ότι κάποιες καλλιέργειες είναι πιο εύκολα διαχωρίσιμες από άλλες με βάση τη φασματική υπογραφή τους;\n",
    "* Θεωρείτε ότι όλα τα κανάλια παρέχουν χρήσιμη πληροφορία για το διαχωρισμό;"
   ]
  },
  {
   "cell_type": "markdown",
   "metadata": {
    "id": "fIcPmK2NDgfA"
   },
   "source": [
    "3.στ. Σχεδιάστε ένα heatmap, που να δείχνει τη συσχέτιση μεταξύ των διαφορετικών καναλιών"
   ]
  },
  {
   "cell_type": "markdown",
   "metadata": {
    "id": "xhITyhMuSslH"
   },
   "source": [
    "### 4. Συσταδοποίηση με χρήση του αλγορίθμου k-Means"
   ]
  },
  {
   "cell_type": "markdown",
   "metadata": {
    "id": "a49EG4Z9U0yD"
   },
   "source": [
    " 4.α. Εφαρμόστε τον αλγόριθμο k-Means (sklearn.cluster) στα δεδομένα (εφόσον κάνατε την προεπεξεργασία του Βήματος 3). Χρησιμοποιήστε την τιμή `n_cluster=16`."
   ]
  },
  {
   "cell_type": "markdown",
   "metadata": {
    "id": "BsvLlbPRWaa_"
   },
   "source": [
    "4.β. Υπολογίστε τις ακόλουθες μετρικές των προβλέψεων του αλγορίθμου\n",
    "\n",
    "* Accuracy Score\n",
    "* Rand Score\n",
    "* Silhouette Score\n",
    "\n",
    "Σημειώστε ότι για τη συνάρτηση rand_score μπορείτε να δώσετε σαν είσοδο τα αρχικά labels που σας δόθηκαν μαζί με τα predicted. Για τον υπολογισμό όμως του accuracy, θα πρέπει να αντιστοιχίσουμε τα διαφορετικά ID των clusters στην έξοδο του KMeans, με τις κατηγορίες της αρχικής επισημείωσης. Για την μετατροπή αυτή μπορείτε να χρησιμοποιήσετε την ακόλουθη συνάρτηση που σας δίνεται `translate_predicted_labels`."
   ]
  },
  {
   "cell_type": "code",
   "execution_count": null,
   "metadata": {
    "id": "nSMHKLf0DgfC"
   },
   "outputs": [],
   "source": [
    "!pip install munkres\n",
    "from munkres import Munkres\n",
    "\n",
    "def make_cost_matrix(c1, c2):\n",
    "    \"\"\"\n",
    "    \"\"\"\n",
    "    uc1 = np.unique(c1)\n",
    "    uc2 = np.unique(c2)\n",
    "    l1 = uc1.size\n",
    "    l2 = uc2.size\n",
    "    assert(l1 == l2 and np.all(uc1 == uc2))\n",
    "\n",
    "    m = np.ones([l1, l2])\n",
    "    for i in range(l1):\n",
    "        it_i = np.nonzero(c1 == uc1[i])[0]\n",
    "        for j in range(l2):\n",
    "            it_j = np.nonzero(c2 == uc2[j])[0]\n",
    "            m_ij = np.intersect1d(it_j, it_i)\n",
    "            m[i,j] =  -m_ij.size\n",
    "    return m\n",
    "\n",
    "def translate_clustering(clt, mapper):\n",
    "    return np.array([ mapper[i] for i in clt ])\n",
    "\n",
    "def accuracy(cm):\n",
    "    \"\"\"computes accuracy from confusion matrix\"\"\"\n",
    "    return np.trace(cm, dtype=float) / np.sum(cm)\n",
    "\n",
    "\n",
    "def translate_predicted_labels(predicted_y, y):\n",
    "    cost_matrix = make_cost_matrix(predicted_y, y)\n",
    "    m = Munkres()\n",
    "    indexes = m.compute(cost_matrix)\n",
    "    mapper = { old: new for (old, new) in indexes }\n",
    "\n",
    "    for old, new in mapper.items():\n",
    "        print(\"map: %s --> %s\" %(old, new))\n",
    "\n",
    "    translated_predicted_y = translate_clustering(predicted_y, mapper)\n",
    "    return translated_predicted_y\n",
    "\n",
    "# usage:\n",
    "# translate_predicted_labels(predicted, gt)\n",
    "# predicted: N, array of predicted labels (predicted cluster IDs)\n",
    "# gt: N, array of ground truth classes"
   ]
  },
  {
   "cell_type": "markdown",
   "metadata": {
    "id": "F1SXqT2vWZTh"
   },
   "source": [
    "4.δ. Σχεδιάστε το confusion matrix (χρησιμοποιήστε τα αντιστοιχισμένα predicted labels)."
   ]
  },
  {
   "cell_type": "markdown",
   "source": [
    "4.ε. Όπως στο 2.δ. σχεδιάστε με χρήση της matplotlib τα predicted labels σε μορφή εικόνας."
   ],
   "metadata": {
    "id": "w5w-rGUrBULM"
   }
  },
  {
   "cell_type": "markdown",
   "metadata": {
    "id": "f1ZWds7ekAsL"
   },
   "source": [
    "### 5. Μείωση διαστατικότητας δεδομένων"
   ]
  },
  {
   "cell_type": "markdown",
   "metadata": {
    "id": "atEnldNpkSTG"
   },
   "source": [
    "5.α. Εφαρμόστε στα δεδομένα τη μέθοδο μείωσης διαστατικότητας PCA. Επιλέξτε `n_components=3`"
   ]
  },
  {
   "cell_type": "markdown",
   "metadata": {
    "id": "Z6SPFOpZjF5l"
   },
   "source": [
    "5.β. Τι ποσοστό της διακύμανσης των δεδομένων διατηρείτε με `n_components=3` ?\n",
    "Hint: sklearn.decomposition.PCA.explained_variance_ratio_"
   ]
  },
  {
   "cell_type": "markdown",
   "metadata": {
    "id": "j6OoLlxrYILN"
   },
   "source": [
    "### 6. Συνδυασμός μείωσης διαστατικότητας και k-Means"
   ]
  },
  {
   "cell_type": "markdown",
   "metadata": {
    "id": "KD2jGJgUloMW"
   },
   "source": [
    "6.α. Εφαρμόστε τον αλγόριθμο kmeans στα δεδομένα μειωμένης διαστατικότητας `n_components=3`, και υπολογίστε εκ νέου τις μετρικές του Βήματος 4.γ."
   ]
  },
  {
   "cell_type": "markdown",
   "metadata": {
    "id": "hj_7xTZ-loMW"
   },
   "source": [
    "6.β. Δοκιμάστε διαφορετικές τιμές για το `n_components` (από 1 έως 10) και για κάθε μία από αυτές τις τιμές τρέξτε εκ νέου τον k-Μeans, υπολογίζοντας τα τελικά scores. Για κάθε μετρική, φτιάξτε ένα διάγραμμα που στον άξονα των Χ θα έχει τον αριθμό `n_components` και στον άξονα των Υ, την τιμή της μετρικής. Τι συμπεράσματα βγάζετε;"
   ]
  }
 ],
 "metadata": {
  "colab": {
   "provenance": []
  },
  "kernelspec": {
   "display_name": "Python 3 (ipykernel)",
   "language": "python",
   "name": "python3"
  },
  "language_info": {
   "codemirror_mode": {
    "name": "ipython",
    "version": 3
   },
   "file_extension": ".py",
   "mimetype": "text/x-python",
   "name": "python",
   "nbconvert_exporter": "python",
   "pygments_lexer": "ipython3",
   "version": "3.8.15"
  }
 },
 "nbformat": 4,
 "nbformat_minor": 0
}
